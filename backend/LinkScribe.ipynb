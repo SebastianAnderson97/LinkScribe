{
 "cells": [
  {
   "cell_type": "markdown",
   "id": "84058512",
   "metadata": {},
   "source": [
    "# Link Scribe"
   ]
  },
  {
   "cell_type": "code",
   "execution_count": 74,
   "id": "577893f7",
   "metadata": {
    "scrolled": false
   },
   "outputs": [
    {
     "name": "stdout",
     "output_type": "stream",
     "text": [
      "Requirement already satisfied: imbalanced-learn in /Users/sebastianandersonguerrero/proyecto_final_Full_Stack/env/lib/python3.11/site-packages (0.10.1)\n",
      "Requirement already satisfied: numpy>=1.17.3 in /Users/sebastianandersonguerrero/proyecto_final_Full_Stack/env/lib/python3.11/site-packages (from imbalanced-learn) (1.24.2)\n",
      "Requirement already satisfied: scipy>=1.3.2 in /Users/sebastianandersonguerrero/proyecto_final_Full_Stack/env/lib/python3.11/site-packages (from imbalanced-learn) (1.10.1)\n",
      "Requirement already satisfied: scikit-learn>=1.0.2 in /Users/sebastianandersonguerrero/proyecto_final_Full_Stack/env/lib/python3.11/site-packages (from imbalanced-learn) (1.2.2)\n",
      "Requirement already satisfied: joblib>=1.1.1 in /Users/sebastianandersonguerrero/proyecto_final_Full_Stack/env/lib/python3.11/site-packages (from imbalanced-learn) (1.2.0)\n",
      "Requirement already satisfied: threadpoolctl>=2.0.0 in /Users/sebastianandersonguerrero/proyecto_final_Full_Stack/env/lib/python3.11/site-packages (from imbalanced-learn) (3.1.0)\n",
      "Requirement already satisfied: nltk in /Users/sebastianandersonguerrero/proyecto_final_Full_Stack/env/lib/python3.11/site-packages (3.8.1)\n",
      "Requirement already satisfied: click in /Users/sebastianandersonguerrero/proyecto_final_Full_Stack/env/lib/python3.11/site-packages (from nltk) (8.1.3)\n",
      "Requirement already satisfied: joblib in /Users/sebastianandersonguerrero/proyecto_final_Full_Stack/env/lib/python3.11/site-packages (from nltk) (1.2.0)\n",
      "Requirement already satisfied: regex>=2021.8.3 in /Users/sebastianandersonguerrero/proyecto_final_Full_Stack/env/lib/python3.11/site-packages (from nltk) (2022.10.31)\n",
      "Requirement already satisfied: tqdm in /Users/sebastianandersonguerrero/proyecto_final_Full_Stack/env/lib/python3.11/site-packages (from nltk) (4.65.0)\n"
     ]
    }
   ],
   "source": [
    "!pip3 install imbalanced-learn\n",
    "!pip3 install nltk"
   ]
  },
  {
   "cell_type": "code",
   "execution_count": 2,
   "id": "c744dff3",
   "metadata": {},
   "outputs": [],
   "source": [
    "import pandas as pd\n",
    "import numpy as np\n",
    "import matplotlib.pyplot as plt\n",
    "import seaborn as sns\n",
    "%matplotlib inline\n",
    "import string\n",
    "from nltk.corpus import stopwords\n",
    "from sklearn.metrics import classification_report,confusion_matrix,accuracy_score\n",
    "import pickle"
   ]
  },
  {
   "cell_type": "code",
   "execution_count": 10,
   "id": "1f77a42d",
   "metadata": {},
   "outputs": [
    {
     "name": "stdout",
     "output_type": "stream",
     "text": [
      "showing info https://raw.githubusercontent.com/nltk/nltk_data/gh-pages/index.xml\n"
     ]
    },
    {
     "data": {
      "text/plain": [
       "True"
      ]
     },
     "execution_count": 10,
     "metadata": {},
     "output_type": "execute_result"
    }
   ],
   "source": [
    "import nltk\n",
    "import ssl\n",
    "\n",
    "try:\n",
    "    _create_unverified_https_context = ssl._create_unverified_context\n",
    "except AttributeError:\n",
    "    pass\n",
    "else:\n",
    "    ssl._create_default_https_context = _create_unverified_https_context\n",
    "\n",
    "nltk.download()"
   ]
  },
  {
   "cell_type": "code",
   "execution_count": 3,
   "id": "b31eee00",
   "metadata": {},
   "outputs": [
    {
     "data": {
      "text/html": [
       "<div>\n",
       "<style scoped>\n",
       "    .dataframe tbody tr th:only-of-type {\n",
       "        vertical-align: middle;\n",
       "    }\n",
       "\n",
       "    .dataframe tbody tr th {\n",
       "        vertical-align: top;\n",
       "    }\n",
       "\n",
       "    .dataframe thead th {\n",
       "        text-align: right;\n",
       "    }\n",
       "</style>\n",
       "<table border=\"1\" class=\"dataframe\">\n",
       "  <thead>\n",
       "    <tr style=\"text-align: right;\">\n",
       "      <th></th>\n",
       "      <th>Unnamed: 0</th>\n",
       "      <th>website_url</th>\n",
       "      <th>cleaned_website_text</th>\n",
       "      <th>Category</th>\n",
       "    </tr>\n",
       "  </thead>\n",
       "  <tbody>\n",
       "    <tr>\n",
       "      <th>0</th>\n",
       "      <td>0</td>\n",
       "      <td>https://www.booking.com/index.html?aid=1743217</td>\n",
       "      <td>official site good hotel accommodation big sav...</td>\n",
       "      <td>Travel</td>\n",
       "    </tr>\n",
       "    <tr>\n",
       "      <th>1</th>\n",
       "      <td>1</td>\n",
       "      <td>https://travelsites.com/expedia/</td>\n",
       "      <td>expedia hotel book sites like use vacation wor...</td>\n",
       "      <td>Travel</td>\n",
       "    </tr>\n",
       "    <tr>\n",
       "      <th>2</th>\n",
       "      <td>2</td>\n",
       "      <td>https://travelsites.com/tripadvisor/</td>\n",
       "      <td>tripadvisor hotel book sites like previously d...</td>\n",
       "      <td>Travel</td>\n",
       "    </tr>\n",
       "    <tr>\n",
       "      <th>3</th>\n",
       "      <td>3</td>\n",
       "      <td>https://www.momondo.in/?ispredir=true</td>\n",
       "      <td>cheap flights search compare flights momondo f...</td>\n",
       "      <td>Travel</td>\n",
       "    </tr>\n",
       "    <tr>\n",
       "      <th>4</th>\n",
       "      <td>4</td>\n",
       "      <td>https://www.ebookers.com/?AFFCID=EBOOKERS-UK.n...</td>\n",
       "      <td>bot create free account create free account si...</td>\n",
       "      <td>Travel</td>\n",
       "    </tr>\n",
       "    <tr>\n",
       "      <th>...</th>\n",
       "      <td>...</td>\n",
       "      <td>...</td>\n",
       "      <td>...</td>\n",
       "      <td>...</td>\n",
       "    </tr>\n",
       "    <tr>\n",
       "      <th>1403</th>\n",
       "      <td>1403</td>\n",
       "      <td>http://www.oldwomen.org/</td>\n",
       "      <td>old nude women porn mature granny sex horny ol...</td>\n",
       "      <td>Adult</td>\n",
       "    </tr>\n",
       "    <tr>\n",
       "      <th>1404</th>\n",
       "      <td>1404</td>\n",
       "      <td>http://www.webcamslave.com</td>\n",
       "      <td>bdsm cams bdsm chat bondage cams free bdsm vid...</td>\n",
       "      <td>Adult</td>\n",
       "    </tr>\n",
       "    <tr>\n",
       "      <th>1405</th>\n",
       "      <td>1405</td>\n",
       "      <td>http://www.buyeuroporn.com/</td>\n",
       "      <td>porno dvd online european porn dvd cheap adult...</td>\n",
       "      <td>Adult</td>\n",
       "    </tr>\n",
       "    <tr>\n",
       "      <th>1406</th>\n",
       "      <td>1406</td>\n",
       "      <td>http://www.analdreamhouse.com/30/03/agecheck/i...</td>\n",
       "      <td>anal dream house anal dream house anal dream h...</td>\n",
       "      <td>Adult</td>\n",
       "    </tr>\n",
       "    <tr>\n",
       "      <th>1407</th>\n",
       "      <td>1407</td>\n",
       "      <td>http://www.world-sex-news.com/</td>\n",
       "      <td>world sex news daily sex news adult news eroti...</td>\n",
       "      <td>Adult</td>\n",
       "    </tr>\n",
       "  </tbody>\n",
       "</table>\n",
       "<p>1408 rows × 4 columns</p>\n",
       "</div>"
      ],
      "text/plain": [
       "      Unnamed: 0                                        website_url  \\\n",
       "0              0     https://www.booking.com/index.html?aid=1743217   \n",
       "1              1                   https://travelsites.com/expedia/   \n",
       "2              2               https://travelsites.com/tripadvisor/   \n",
       "3              3              https://www.momondo.in/?ispredir=true   \n",
       "4              4  https://www.ebookers.com/?AFFCID=EBOOKERS-UK.n...   \n",
       "...          ...                                                ...   \n",
       "1403        1403                           http://www.oldwomen.org/   \n",
       "1404        1404                         http://www.webcamslave.com   \n",
       "1405        1405                        http://www.buyeuroporn.com/   \n",
       "1406        1406  http://www.analdreamhouse.com/30/03/agecheck/i...   \n",
       "1407        1407                     http://www.world-sex-news.com/   \n",
       "\n",
       "                                   cleaned_website_text Category  \n",
       "0     official site good hotel accommodation big sav...   Travel  \n",
       "1     expedia hotel book sites like use vacation wor...   Travel  \n",
       "2     tripadvisor hotel book sites like previously d...   Travel  \n",
       "3     cheap flights search compare flights momondo f...   Travel  \n",
       "4     bot create free account create free account si...   Travel  \n",
       "...                                                 ...      ...  \n",
       "1403  old nude women porn mature granny sex horny ol...    Adult  \n",
       "1404  bdsm cams bdsm chat bondage cams free bdsm vid...    Adult  \n",
       "1405  porno dvd online european porn dvd cheap adult...    Adult  \n",
       "1406  anal dream house anal dream house anal dream h...    Adult  \n",
       "1407  world sex news daily sex news adult news eroti...    Adult  \n",
       "\n",
       "[1408 rows x 4 columns]"
      ]
     },
     "execution_count": 3,
     "metadata": {},
     "output_type": "execute_result"
    }
   ],
   "source": [
    "website_df= pd.read_csv('website_classification.csv')\n",
    "website_df"
   ]
  },
  {
   "cell_type": "code",
   "execution_count": 4,
   "id": "0dca2423",
   "metadata": {},
   "outputs": [
    {
     "name": "stdout",
     "output_type": "stream",
     "text": [
      "Shape of dataframe: (1408, 4)\n",
      "Columns in dataframe: Index(['Unnamed: 0', 'website_url', 'cleaned_website_text', 'Category'], dtype='object')\n"
     ]
    }
   ],
   "source": [
    "print('Shape of dataframe:',website_df.shape)\n",
    "print('Columns in dataframe:',website_df.columns)"
   ]
  },
  {
   "cell_type": "code",
   "execution_count": 5,
   "id": "6b789478",
   "metadata": {},
   "outputs": [
    {
     "data": {
      "text/html": [
       "<div>\n",
       "<style scoped>\n",
       "    .dataframe tbody tr th:only-of-type {\n",
       "        vertical-align: middle;\n",
       "    }\n",
       "\n",
       "    .dataframe tbody tr th {\n",
       "        vertical-align: top;\n",
       "    }\n",
       "\n",
       "    .dataframe thead th {\n",
       "        text-align: right;\n",
       "    }\n",
       "</style>\n",
       "<table border=\"1\" class=\"dataframe\">\n",
       "  <thead>\n",
       "    <tr style=\"text-align: right;\">\n",
       "      <th></th>\n",
       "      <th>website_url</th>\n",
       "      <th>cleaned_website_text</th>\n",
       "      <th>Category</th>\n",
       "    </tr>\n",
       "  </thead>\n",
       "  <tbody>\n",
       "    <tr>\n",
       "      <th>0</th>\n",
       "      <td>https://www.booking.com/index.html?aid=1743217</td>\n",
       "      <td>official site good hotel accommodation big sav...</td>\n",
       "      <td>Travel</td>\n",
       "    </tr>\n",
       "    <tr>\n",
       "      <th>1</th>\n",
       "      <td>https://travelsites.com/expedia/</td>\n",
       "      <td>expedia hotel book sites like use vacation wor...</td>\n",
       "      <td>Travel</td>\n",
       "    </tr>\n",
       "    <tr>\n",
       "      <th>2</th>\n",
       "      <td>https://travelsites.com/tripadvisor/</td>\n",
       "      <td>tripadvisor hotel book sites like previously d...</td>\n",
       "      <td>Travel</td>\n",
       "    </tr>\n",
       "    <tr>\n",
       "      <th>3</th>\n",
       "      <td>https://www.momondo.in/?ispredir=true</td>\n",
       "      <td>cheap flights search compare flights momondo f...</td>\n",
       "      <td>Travel</td>\n",
       "    </tr>\n",
       "    <tr>\n",
       "      <th>4</th>\n",
       "      <td>https://www.ebookers.com/?AFFCID=EBOOKERS-UK.n...</td>\n",
       "      <td>bot create free account create free account si...</td>\n",
       "      <td>Travel</td>\n",
       "    </tr>\n",
       "  </tbody>\n",
       "</table>\n",
       "</div>"
      ],
      "text/plain": [
       "                                         website_url  \\\n",
       "0     https://www.booking.com/index.html?aid=1743217   \n",
       "1                   https://travelsites.com/expedia/   \n",
       "2               https://travelsites.com/tripadvisor/   \n",
       "3              https://www.momondo.in/?ispredir=true   \n",
       "4  https://www.ebookers.com/?AFFCID=EBOOKERS-UK.n...   \n",
       "\n",
       "                                cleaned_website_text Category  \n",
       "0  official site good hotel accommodation big sav...   Travel  \n",
       "1  expedia hotel book sites like use vacation wor...   Travel  \n",
       "2  tripadvisor hotel book sites like previously d...   Travel  \n",
       "3  cheap flights search compare flights momondo f...   Travel  \n",
       "4  bot create free account create free account si...   Travel  "
      ]
     },
     "execution_count": 5,
     "metadata": {},
     "output_type": "execute_result"
    }
   ],
   "source": [
    "website_df.drop('Unnamed: 0',axis=1,inplace=True)   #Dropping the unnecessary column\n",
    "website_df.head()"
   ]
  },
  {
   "cell_type": "code",
   "execution_count": 6,
   "id": "6528199d",
   "metadata": {},
   "outputs": [
    {
     "data": {
      "text/plain": [
       "website_url             0\n",
       "cleaned_website_text    0\n",
       "Category                0\n",
       "dtype: int64"
      ]
     },
     "execution_count": 6,
     "metadata": {},
     "output_type": "execute_result"
    }
   ],
   "source": [
    "website_df.isnull().sum()"
   ]
  },
  {
   "cell_type": "code",
   "execution_count": 7,
   "id": "f8bdf8eb",
   "metadata": {
    "scrolled": true
   },
   "outputs": [
    {
     "data": {
      "text/plain": [
       "Index(['Adult', 'Business/Corporate', 'Computers and Technology', 'E-Commerce',\n",
       "       'Education', 'Food', 'Forums', 'Games', 'Health and Fitness',\n",
       "       'Law and Government', 'News', 'Photography',\n",
       "       'Social Networking and Messaging', 'Sports', 'Streaming Services',\n",
       "       'Travel'],\n",
       "      dtype='object', name='Category')"
      ]
     },
     "execution_count": 7,
     "metadata": {},
     "output_type": "execute_result"
    }
   ],
   "source": [
    "df_a=website_df.groupby('Category').count().sort_values(by='Category',ascending=True)\n",
    "df_a.index"
   ]
  },
  {
   "cell_type": "code",
   "execution_count": 8,
   "id": "2b4731e8",
   "metadata": {},
   "outputs": [
    {
     "data": {
      "text/html": [
       "<div>\n",
       "<style scoped>\n",
       "    .dataframe tbody tr th:only-of-type {\n",
       "        vertical-align: middle;\n",
       "    }\n",
       "\n",
       "    .dataframe tbody tr th {\n",
       "        vertical-align: top;\n",
       "    }\n",
       "\n",
       "    .dataframe thead th {\n",
       "        text-align: right;\n",
       "    }\n",
       "</style>\n",
       "<table border=\"1\" class=\"dataframe\">\n",
       "  <thead>\n",
       "    <tr style=\"text-align: right;\">\n",
       "      <th></th>\n",
       "      <th>website_url</th>\n",
       "      <th>cleaned_website_text</th>\n",
       "    </tr>\n",
       "    <tr>\n",
       "      <th>Category</th>\n",
       "      <th></th>\n",
       "      <th></th>\n",
       "    </tr>\n",
       "  </thead>\n",
       "  <tbody>\n",
       "    <tr>\n",
       "      <th>Adult</th>\n",
       "      <td>16</td>\n",
       "      <td>16</td>\n",
       "    </tr>\n",
       "    <tr>\n",
       "      <th>Business/Corporate</th>\n",
       "      <td>109</td>\n",
       "      <td>109</td>\n",
       "    </tr>\n",
       "    <tr>\n",
       "      <th>Computers and Technology</th>\n",
       "      <td>93</td>\n",
       "      <td>93</td>\n",
       "    </tr>\n",
       "    <tr>\n",
       "      <th>E-Commerce</th>\n",
       "      <td>102</td>\n",
       "      <td>102</td>\n",
       "    </tr>\n",
       "    <tr>\n",
       "      <th>Education</th>\n",
       "      <td>114</td>\n",
       "      <td>114</td>\n",
       "    </tr>\n",
       "    <tr>\n",
       "      <th>Food</th>\n",
       "      <td>92</td>\n",
       "      <td>92</td>\n",
       "    </tr>\n",
       "    <tr>\n",
       "      <th>Forums</th>\n",
       "      <td>16</td>\n",
       "      <td>16</td>\n",
       "    </tr>\n",
       "    <tr>\n",
       "      <th>Games</th>\n",
       "      <td>98</td>\n",
       "      <td>98</td>\n",
       "    </tr>\n",
       "    <tr>\n",
       "      <th>Health and Fitness</th>\n",
       "      <td>96</td>\n",
       "      <td>96</td>\n",
       "    </tr>\n",
       "    <tr>\n",
       "      <th>Law and Government</th>\n",
       "      <td>84</td>\n",
       "      <td>84</td>\n",
       "    </tr>\n",
       "    <tr>\n",
       "      <th>News</th>\n",
       "      <td>96</td>\n",
       "      <td>96</td>\n",
       "    </tr>\n",
       "    <tr>\n",
       "      <th>Photography</th>\n",
       "      <td>93</td>\n",
       "      <td>93</td>\n",
       "    </tr>\n",
       "    <tr>\n",
       "      <th>Social Networking and Messaging</th>\n",
       "      <td>83</td>\n",
       "      <td>83</td>\n",
       "    </tr>\n",
       "    <tr>\n",
       "      <th>Sports</th>\n",
       "      <td>104</td>\n",
       "      <td>104</td>\n",
       "    </tr>\n",
       "    <tr>\n",
       "      <th>Streaming Services</th>\n",
       "      <td>105</td>\n",
       "      <td>105</td>\n",
       "    </tr>\n",
       "    <tr>\n",
       "      <th>Travel</th>\n",
       "      <td>107</td>\n",
       "      <td>107</td>\n",
       "    </tr>\n",
       "  </tbody>\n",
       "</table>\n",
       "</div>"
      ],
      "text/plain": [
       "                                 website_url  cleaned_website_text\n",
       "Category                                                          \n",
       "Adult                                     16                    16\n",
       "Business/Corporate                       109                   109\n",
       "Computers and Technology                  93                    93\n",
       "E-Commerce                               102                   102\n",
       "Education                                114                   114\n",
       "Food                                      92                    92\n",
       "Forums                                    16                    16\n",
       "Games                                     98                    98\n",
       "Health and Fitness                        96                    96\n",
       "Law and Government                        84                    84\n",
       "News                                      96                    96\n",
       "Photography                               93                    93\n",
       "Social Networking and Messaging           83                    83\n",
       "Sports                                   104                   104\n",
       "Streaming Services                       105                   105\n",
       "Travel                                   107                   107"
      ]
     },
     "execution_count": 8,
     "metadata": {},
     "output_type": "execute_result"
    }
   ],
   "source": [
    "df_a"
   ]
  },
  {
   "cell_type": "code",
   "execution_count": 9,
   "id": "e9d09ca2",
   "metadata": {},
   "outputs": [
    {
     "data": {
      "text/plain": [
       "<Axes: xlabel='count', ylabel='Category'>"
      ]
     },
     "execution_count": 9,
     "metadata": {},
     "output_type": "execute_result"
    },
    {
     "data": {
      "image/png": "[encoded data removed]",
      "text/plain": [
       "<Figure size 640x480 with 1 Axes>"
      ]
     },
     "metadata": {},
     "output_type": "display_data"
    }
   ],
   "source": [
    "sns.countplot(y=website_df['Category'],order=website_df['Category'].value_counts().index[:16])"
   ]
  },
  {
   "cell_type": "code",
   "execution_count": 21,
   "id": "2c08c8cf",
   "metadata": {
    "scrolled": true
   },
   "outputs": [
    {
     "name": "stdout",
     "output_type": "stream",
     "text": [
      "Total number of words including all the educational websites:  774075\n",
      "Total number of words including all the Business/Corporate website:  387336\n",
      "Total number of words including all the travel websites:  615047\n",
      "Total number of words including all the Streaming services websites:  385775\n",
      "Total number of words including all the sports websites:  854152\n",
      "Total number of words including all the E-commerce website:  480333\n",
      "Total number of words including all the games websites:  299445\n",
      "Total number of words including all the News websites:  1020091\n",
      "Total number of words including all the Health and Fitness websites:  534152\n",
      "Total number of words including all the Computers and Technology website:  409889\n",
      "Total number of words including all the Photography websites:  401760\n",
      "Total number of words including all the Food websites:  437253\n",
      "Total number of words including all the Law and Government websites:  443235\n",
      "Total number of words including all the Social Networking and Messaging website:  177552\n",
      "Total number of words including all the adult websites:  156038\n",
      "Total number of words including all the Forums websites:  50604\n"
     ]
    },
    {
     "data": {
      "text/html": [
       "<div>\n",
       "<style scoped>\n",
       "    .dataframe tbody tr th:only-of-type {\n",
       "        vertical-align: middle;\n",
       "    }\n",
       "\n",
       "    .dataframe tbody tr th {\n",
       "        vertical-align: top;\n",
       "    }\n",
       "\n",
       "    .dataframe thead th {\n",
       "        text-align: right;\n",
       "    }\n",
       "</style>\n",
       "<table border=\"1\" class=\"dataframe\">\n",
       "  <thead>\n",
       "    <tr style=\"text-align: right;\">\n",
       "      <th></th>\n",
       "      <th>Website category</th>\n",
       "      <th>Sum of length of all the words on the site</th>\n",
       "    </tr>\n",
       "  </thead>\n",
       "  <tbody>\n",
       "    <tr>\n",
       "      <th>2</th>\n",
       "      <td>Travel</td>\n",
       "      <td>1020091</td>\n",
       "    </tr>\n",
       "    <tr>\n",
       "      <th>3</th>\n",
       "      <td>Streaming Services</td>\n",
       "      <td>854152</td>\n",
       "    </tr>\n",
       "    <tr>\n",
       "      <th>0</th>\n",
       "      <td>Education</td>\n",
       "      <td>774075</td>\n",
       "    </tr>\n",
       "    <tr>\n",
       "      <th>13</th>\n",
       "      <td>Social Neworking &amp; Messaging</td>\n",
       "      <td>615047</td>\n",
       "    </tr>\n",
       "    <tr>\n",
       "      <th>4</th>\n",
       "      <td>Sports</td>\n",
       "      <td>534152</td>\n",
       "    </tr>\n",
       "    <tr>\n",
       "      <th>15</th>\n",
       "      <td>Forums</td>\n",
       "      <td>480333</td>\n",
       "    </tr>\n",
       "    <tr>\n",
       "      <th>9</th>\n",
       "      <td>Computer and Technology</td>\n",
       "      <td>443235</td>\n",
       "    </tr>\n",
       "    <tr>\n",
       "      <th>10</th>\n",
       "      <td>Photography</td>\n",
       "      <td>437253</td>\n",
       "    </tr>\n",
       "    <tr>\n",
       "      <th>5</th>\n",
       "      <td>E-Commerce</td>\n",
       "      <td>409889</td>\n",
       "    </tr>\n",
       "    <tr>\n",
       "      <th>7</th>\n",
       "      <td>News</td>\n",
       "      <td>401760</td>\n",
       "    </tr>\n",
       "    <tr>\n",
       "      <th>14</th>\n",
       "      <td>Adult</td>\n",
       "      <td>387336</td>\n",
       "    </tr>\n",
       "    <tr>\n",
       "      <th>12</th>\n",
       "      <td>Law &amp; Government</td>\n",
       "      <td>385775</td>\n",
       "    </tr>\n",
       "    <tr>\n",
       "      <th>11</th>\n",
       "      <td>Food</td>\n",
       "      <td>299445</td>\n",
       "    </tr>\n",
       "    <tr>\n",
       "      <th>8</th>\n",
       "      <td>Health &amp; Fitness</td>\n",
       "      <td>177552</td>\n",
       "    </tr>\n",
       "    <tr>\n",
       "      <th>6</th>\n",
       "      <td>Games</td>\n",
       "      <td>156038</td>\n",
       "    </tr>\n",
       "    <tr>\n",
       "      <th>1</th>\n",
       "      <td>Business/Corporate</td>\n",
       "      <td>50604</td>\n",
       "    </tr>\n",
       "  </tbody>\n",
       "</table>\n",
       "</div>"
      ],
      "text/plain": [
       "                Website category  Sum of length of all the words on the site\n",
       "2                         Travel                                     1020091\n",
       "3             Streaming Services                                      854152\n",
       "0                      Education                                      774075\n",
       "13  Social Neworking & Messaging                                      615047\n",
       "4                         Sports                                      534152\n",
       "15                        Forums                                      480333\n",
       "9        Computer and Technology                                      443235\n",
       "10                   Photography                                      437253\n",
       "5                     E-Commerce                                      409889\n",
       "7                           News                                      401760\n",
       "14                         Adult                                      387336\n",
       "12              Law & Government                                      385775\n",
       "11                          Food                                      299445\n",
       "8               Health & Fitness                                      177552\n",
       "6                          Games                                      156038\n",
       "1             Business/Corporate                                       50604"
      ]
     },
     "execution_count": 21,
     "metadata": {},
     "output_type": "execute_result"
    }
   ],
   "source": [
    "#Education\n",
    "sum_ed=0\n",
    "for i in website_df['Category'].index:\n",
    "    if (website_df['Category'][i]=='Education'):\n",
    "        a= len(website_df['cleaned_website_text'][i])\n",
    "        sum_ed=sum_ed+a\n",
    "print('Total number of words including all the educational websites: ', sum_ed)\n",
    "\n",
    "\n",
    "\n",
    "#Business/Corporate\n",
    "sum_business=0\n",
    "for i in website_df['Category'].index:\n",
    "    if (website_df['Category'][i]=='Business/Corporate'):\n",
    "        a= len(website_df['cleaned_website_text'][i])\n",
    "        sum_business=sum_business+a\n",
    "print('Total number of words including all the Business/Corporate website: ', sum_business)\n",
    "\n",
    "\n",
    "#Travel\n",
    "sum_travel=0\n",
    "for i in website_df['Category'].index:\n",
    "    if (website_df['Category'][i]=='Travel'):\n",
    "        a= len(website_df['cleaned_website_text'][i])\n",
    "        sum_travel=sum_travel+a\n",
    "print('Total number of words including all the travel websites: ', sum_travel)\n",
    "\n",
    "\n",
    "#Streaming services\n",
    "sum_stream=0\n",
    "for i in website_df['Category'].index:\n",
    "    if (website_df['Category'][i]=='Streaming Services'):\n",
    "        a= len(website_df['cleaned_website_text'][i])\n",
    "        sum_stream=sum_stream+a\n",
    "print('Total number of words including all the Streaming services websites: ', sum_stream)\n",
    "\n",
    "\n",
    "#Sports\n",
    "sum_sports=0\n",
    "for i in website_df['Category'].index:\n",
    "    if (website_df['Category'][i]=='Sports'):\n",
    "        a= len(website_df['cleaned_website_text'][i])\n",
    "        sum_sports=sum_sports+a\n",
    "print('Total number of words including all the sports websites: ', sum_sports)\n",
    "\n",
    "\n",
    "#E-commerce\n",
    "sum_commerce=0\n",
    "for i in website_df['Category'].index:\n",
    "    if (website_df['Category'][i]=='E-Commerce'):\n",
    "        a= len(website_df['cleaned_website_text'][i])\n",
    "        sum_commerce=sum_commerce+a\n",
    "print('Total number of words including all the E-commerce website: ', sum_commerce)\n",
    "\n",
    "\n",
    "\n",
    "#Games\n",
    "sum_game=0\n",
    "for i in website_df['Category'].index:\n",
    "    if (website_df['Category'][i]=='Games'):\n",
    "        a= len(website_df['cleaned_website_text'][i])\n",
    "        sum_game=sum_game+a\n",
    "print('Total number of words including all the games websites: ', sum_game)\n",
    "\n",
    "\n",
    "\n",
    "#News\n",
    "sum_news=0\n",
    "for i in website_df['Category'].index:\n",
    "    if (website_df['Category'][i]=='News'):\n",
    "        a= len(website_df['cleaned_website_text'][i])\n",
    "        sum_news=sum_news+a\n",
    "print('Total number of words including all the News websites: ', sum_news)\n",
    "\n",
    "\n",
    "\n",
    "#Health and Fitness\n",
    "sum_health=0\n",
    "for i in website_df['Category'].index:\n",
    "    if (website_df['Category'][i]=='Health and Fitness'):\n",
    "        a= len(website_df['cleaned_website_text'][i])\n",
    "        sum_health=sum_health+a\n",
    "print('Total number of words including all the Health and Fitness websites: ', sum_health)\n",
    "\n",
    "\n",
    "\n",
    "#Computers and Technology\n",
    "sum_comp=0\n",
    "for i in website_df['Category'].index:\n",
    "    if (website_df['Category'][i]=='Computers and Technology'):\n",
    "        a= len(website_df['cleaned_website_text'][i])\n",
    "        sum_comp=sum_comp+a\n",
    "print('Total number of words including all the Computers and Technology website: ', sum_comp)\n",
    "\n",
    "\n",
    "\n",
    "#Photography\n",
    "sum_photog=0\n",
    "for i in website_df['Category'].index:\n",
    "    if (website_df['Category'][i]=='Photography'):\n",
    "        a= len(website_df['cleaned_website_text'][i])\n",
    "        sum_photog=sum_photog+a\n",
    "print('Total number of words including all the Photography websites: ', sum_photog)\n",
    "\n",
    "\n",
    "\n",
    "#Food\n",
    "sum_food=0\n",
    "for i in website_df['Category'].index:\n",
    "    if (website_df['Category'][i]=='Food'):\n",
    "        a= len(website_df['cleaned_website_text'][i])\n",
    "        sum_food=sum_food+a\n",
    "print('Total number of words including all the Food websites: ', sum_food)\n",
    "\n",
    "\n",
    "\n",
    "#Law and Government\n",
    "sum_law=0\n",
    "for i in website_df['Category'].index:\n",
    "    if (website_df['Category'][i]=='Law and Government'):\n",
    "        a= len(website_df['cleaned_website_text'][i])\n",
    "        sum_law=sum_law+a\n",
    "print('Total number of words including all the Law and Government websites: ', sum_law)\n",
    "\n",
    "\n",
    "\n",
    "#Social Networking and Messaging\n",
    "sum_social=0\n",
    "for i in website_df['Category'].index:\n",
    "    if (website_df['Category'][i]=='Social Networking and Messaging'):\n",
    "        a= len(website_df['cleaned_website_text'][i])\n",
    "        sum_social=sum_social+a\n",
    "print('Total number of words including all the Social Networking and Messaging website: ', sum_social)\n",
    "\n",
    "\n",
    "\n",
    "#Adult\n",
    "sum_ad=0\n",
    "for i in website_df['Category'].index:\n",
    "    if (website_df['Category'][i]=='Adult'):\n",
    "        a= len(website_df['cleaned_website_text'][i])\n",
    "        sum_ad=sum_ad+a\n",
    "print('Total number of words including all the adult websites: ', sum_ad)\n",
    "\n",
    "\n",
    "\n",
    "#Forums\n",
    "sum_forum=0\n",
    "for i in website_df['Category'].index:\n",
    "    if (website_df['Category'][i]=='Forums'):\n",
    "        a= len(website_df['cleaned_website_text'][i])\n",
    "        sum_forum=sum_forum+a\n",
    "print('Total number of words including all the Forums websites: ', sum_forum)\n",
    "\n",
    "\n",
    "l=[sum_ed,sum_forum,sum_news,sum_sports,sum_health,sum_comp,sum_ad,sum_photog,sum_social,sum_law,sum_food,sum_game,sum_stream,sum_travel,sum_business,sum_commerce]\n",
    "x1=pd.Series(l).to_frame()\n",
    "x2=pd.Series(['Education','Business/Corporate','Travel','Streaming Services','Sports','E-Commerce','Games','News','Health & Fitness','Computer and Technology','Photography','Food','Law & Government','Social Neworking & Messaging','Adult','Forums']).to_frame()\n",
    "x3=pd.concat([x2,x1],axis=1,ignore_index=True)\n",
    "x3.columns=['Website category','Sum of length of all the words on the site']\n",
    "x3.sort_values(by='Sum of length of all the words on the site',ascending=False)"
   ]
  },
  {
   "cell_type": "code",
   "execution_count": 22,
   "id": "190ce1c7",
   "metadata": {},
   "outputs": [
    {
     "data": {
      "text/plain": [
       "Text(0.5, 1.0, 'Category wise total number of characters on all the websites (combined)')"
      ]
     },
     "execution_count": 22,
     "metadata": {},
     "output_type": "execute_result"
    },
    {
     "data": {
      "image/png": "[encoded data removed]",
      "text/plain": [
       "<Figure size 2000x600 with 1 Axes>"
      ]
     },
     "metadata": {},
     "output_type": "display_data"
    }
   ],
   "source": [
    "sns.set_style('whitegrid')\n",
    "plt.figure(figsize=(20,6))\n",
    "sns.barplot(x='Website category',y='Sum of length of all the words on the site',data=x3)\n",
    "plt.xticks(rotation=75)\n",
    "plt.title('Category wise total number of characters on all the websites (combined)',fontweight='bold',fontsize=15)"
   ]
  },
  {
   "cell_type": "code",
   "execution_count": 29,
   "id": "1bc61d4b",
   "metadata": {
    "scrolled": true
   },
   "outputs": [],
   "source": [
    "X=website_df['cleaned_website_text']      \n",
    "y=website_df['Category']   "
   ]
  },
  {
   "cell_type": "code",
   "execution_count": 30,
   "id": "cbb9abe9",
   "metadata": {},
   "outputs": [],
   "source": [
    "def text_process(value):\n",
    "    nopunc=[char for char in value if char not in string.punctuation]   #Removes punctuation\n",
    "    nopunc=''.join(nopunc)\n",
    "    return [word for word in nopunc.split() if word.lower() not in stopwords.words('english')]  #Removes stopwords\n"
   ]
  },
  {
   "cell_type": "code",
   "execution_count": 31,
   "id": "1195f3d9",
   "metadata": {},
   "outputs": [
    {
     "data": {
      "text/plain": [
       "0    [official, site, good, hotel, accommodation, b...\n",
       "1    [expedia, hotel, book, sites, like, use, vacat...\n",
       "2    [tripadvisor, hotel, book, sites, like, previo...\n",
       "3    [cheap, flights, search, compare, flights, mom...\n",
       "4    [bot, create, free, account, create, free, acc...\n",
       "Name: cleaned_website_text, dtype: object"
      ]
     },
     "execution_count": 31,
     "metadata": {},
     "output_type": "execute_result"
    }
   ],
   "source": [
    "X.apply(text_process).head() "
   ]
  },
  {
   "cell_type": "code",
   "execution_count": 73,
   "id": "c286595d",
   "metadata": {},
   "outputs": [
    {
     "name": "stdout",
     "output_type": "stream",
     "text": [
      "(1408,)\n"
     ]
    }
   ],
   "source": [
    "print(X.shape)"
   ]
  },
  {
   "cell_type": "code",
   "execution_count": 32,
   "id": "1f505f9d",
   "metadata": {
    "scrolled": true
   },
   "outputs": [
    {
     "name": "stdout",
     "output_type": "stream",
     "text": [
      "  (0, 37739)\t1\n",
      "  (0, 48869)\t4\n",
      "  (0, 21803)\t3\n",
      "  (0, 24480)\t8\n",
      "  (0, 1050)\t4\n",
      "  (0, 6314)\t1\n",
      "  (0, 46768)\t2\n",
      "  (0, 14366)\t9\n",
      "  (0, 58713)\t1\n",
      "  (0, 7850)\t2\n",
      "  (0, 44989)\t10\n",
      "  (0, 19223)\t5\n",
      "  (0, 22419)\t1\n",
      "  (0, 41999)\t1\n",
      "  (0, 7965)\t2\n",
      "  (0, 31003)\t1\n",
      "  (0, 24485)\t4\n",
      "  (0, 49875)\t2\n",
      "  (0, 37727)\t3\n",
      "  (0, 38798)\t1\n",
      "  (0, 57934)\t1\n",
      "  (0, 7566)\t2\n",
      "  (0, 10558)\t2\n",
      "  (0, 13690)\t9\n",
      "  (0, 9879)\t1\n",
      "  :\t:\n",
      "  (1407, 51895)\t1\n",
      "  (1407, 54389)\t1\n",
      "  (1407, 28825)\t1\n",
      "  (1407, 39920)\t1\n",
      "  (1407, 8015)\t1\n",
      "  (1407, 46858)\t1\n",
      "  (1407, 49553)\t1\n",
      "  (1407, 50059)\t2\n",
      "  (1407, 36845)\t1\n",
      "  (1407, 21403)\t1\n",
      "  (1407, 52235)\t1\n",
      "  (1407, 55807)\t1\n",
      "  (1407, 30196)\t1\n",
      "  (1407, 33269)\t1\n",
      "  (1407, 10951)\t1\n",
      "  (1407, 10782)\t1\n",
      "  (1407, 38558)\t1\n",
      "  (1407, 27406)\t1\n",
      "  (1407, 31247)\t1\n",
      "  (1407, 53768)\t1\n",
      "  (1407, 30438)\t1\n",
      "  (1407, 17665)\t1\n",
      "  (1407, 27665)\t1\n",
      "  (1407, 4620)\t1\n",
      "  (1407, 51547)\t1\n"
     ]
    }
   ],
   "source": [
    "from sklearn.feature_extraction.text import CountVectorizer \n",
    "X1=CountVectorizer().fit_transform(X)\n",
    "print(X1)"
   ]
  },
  {
   "cell_type": "code",
   "execution_count": 33,
   "id": "57750a10",
   "metadata": {
    "scrolled": true
   },
   "outputs": [
    {
     "name": "stdout",
     "output_type": "stream",
     "text": [
      "  (0, 60024)\t0.024502342045692745\n",
      "  (0, 60009)\t0.03163419860320906\n",
      "  (0, 60005)\t0.027810131989300536\n",
      "  (0, 59996)\t0.022764887896070028\n",
      "  (0, 59958)\t0.03163419860320906\n",
      "  (0, 59851)\t0.024502342045692745\n",
      "  (0, 59839)\t0.02852814589910457\n",
      "  (0, 59819)\t0.02815630633841439\n",
      "  (0, 59795)\t0.023417434399081647\n",
      "  (0, 59756)\t0.028929763220329377\n",
      "  (0, 59744)\t0.028929763220329377\n",
      "  (0, 59727)\t0.02815630633841439\n",
      "  (0, 59714)\t0.032407655485124046\n",
      "  (0, 58841)\t0.03791998430637177\n",
      "  (0, 58836)\t0.03791998430637177\n",
      "  (0, 58713)\t0.017678028913267318\n",
      "  (0, 58699)\t0.00949716188945847\n",
      "  (0, 58666)\t0.03866066255083005\n",
      "  (0, 58649)\t0.016711685694573625\n",
      "  (0, 58437)\t0.034921571096896184\n",
      "  (0, 58303)\t0.022764887896070028\n",
      "  (0, 57934)\t0.01953792481306217\n",
      "  (0, 57795)\t0.011090669491753805\n",
      "  (0, 57645)\t0.07583996861274354\n",
      "  (0, 57611)\t0.033782315438822055\n",
      "  :\t:\n",
      "  (1407, 3696)\t0.015369659053057037\n",
      "  (1407, 3690)\t0.010018190161557876\n",
      "  (1407, 3448)\t0.01151304242233949\n",
      "  (1407, 3315)\t0.023930781021979573\n",
      "  (1407, 3310)\t0.2433330446934233\n",
      "  (1407, 3286)\t0.014979852653472917\n",
      "  (1407, 3215)\t0.015810224247726178\n",
      "  (1407, 2870)\t0.01982661761019865\n",
      "  (1407, 2533)\t0.010736019625203555\n",
      "  (1407, 2466)\t0.012216437091861957\n",
      "  (1407, 2455)\t0.033323143255818886\n",
      "  (1407, 1811)\t0.016209223539259146\n",
      "  (1407, 1682)\t0.010035256084826367\n",
      "  (1407, 1580)\t0.013063134397733385\n",
      "  (1407, 1465)\t0.02422804084810206\n",
      "  (1407, 1462)\t0.08506336883890778\n",
      "  (1407, 1325)\t0.009009768459749512\n",
      "  (1407, 1301)\t0.016818071087543372\n",
      "  (1407, 1258)\t0.01116142262487399\n",
      "  (1407, 1237)\t0.016542697023721954\n",
      "  (1407, 1065)\t0.012523060407192038\n",
      "  (1407, 894)\t0.02422804084810206\n",
      "  (1407, 842)\t0.02422804084810206\n",
      "  (1407, 696)\t0.016661571627909443\n",
      "  (1407, 423)\t0.03143481613797635\n"
     ]
    }
   ],
   "source": [
    "from sklearn.feature_extraction.text import TfidfTransformer    \n",
    "X2=TfidfTransformer().fit_transform(X1)     \n",
    "print(X2)"
   ]
  },
  {
   "cell_type": "code",
   "execution_count": 43,
   "id": "6bb8adb3",
   "metadata": {},
   "outputs": [
    {
     "name": "stdout",
     "output_type": "stream",
     "text": [
      "(1408, 60031)\n",
      "(1408, 60031)\n"
     ]
    }
   ],
   "source": [
    "print(X1.shape)\n",
    "print(X2.shape)"
   ]
  },
  {
   "cell_type": "markdown",
   "id": "fedb5a79",
   "metadata": {},
   "source": [
    "#  Naive Bayes classifier"
   ]
  },
  {
   "cell_type": "code",
   "execution_count": 46,
   "id": "4e986c12",
   "metadata": {
    "scrolled": true
   },
   "outputs": [],
   "source": [
    "from sklearn.model_selection import train_test_split\n",
    "X_train, X_test, y_train, y_test = train_test_split(X2, y, test_size=0.3,random_state=101)"
   ]
  },
  {
   "cell_type": "code",
   "execution_count": 47,
   "id": "c0b0f2c3",
   "metadata": {},
   "outputs": [
    {
     "data": {
      "text/html": [
       "<style>#sk-container-id-1 {color: black;background-color: white;}#sk-container-id-1 pre{padding: 0;}#sk-container-id-1 div.sk-toggleable {background-color: white;}#sk-container-id-1 label.sk-toggleable__label {cursor: pointer;display: block;width: 100%;margin-bottom: 0;padding: 0.3em;box-sizing: border-box;text-align: center;}#sk-container-id-1 label.sk-toggleable__label-arrow:before {content: \"▸\";float: left;margin-right: 0.25em;color: #696969;}#sk-container-id-1 label.sk-toggleable__label-arrow:hover:before {color: black;}#sk-container-id-1 div.sk-estimator:hover label.sk-toggleable__label-arrow:before {color: black;}#sk-container-id-1 div.sk-toggleable__content {max-height: 0;max-width: 0;overflow: hidden;text-align: left;background-color: #f0f8ff;}#sk-container-id-1 div.sk-toggleable__content pre {margin: 0.2em;color: black;border-radius: 0.25em;background-color: #f0f8ff;}#sk-container-id-1 input.sk-toggleable__control:checked~div.sk-toggleable__content {max-height: 200px;max-width: 100%;overflow: auto;}#sk-container-id-1 input.sk-toggleable__control:checked~label.sk-toggleable__label-arrow:before {content: \"▾\";}#sk-container-id-1 div.sk-estimator input.sk-toggleable__control:checked~label.sk-toggleable__label {background-color: #d4ebff;}#sk-container-id-1 div.sk-label input.sk-toggleable__control:checked~label.sk-toggleable__label {background-color: #d4ebff;}#sk-container-id-1 input.sk-hidden--visually {border: 0;clip: rect(1px 1px 1px 1px);clip: rect(1px, 1px, 1px, 1px);height: 1px;margin: -1px;overflow: hidden;padding: 0;position: absolute;width: 1px;}#sk-container-id-1 div.sk-estimator {font-family: monospace;background-color: #f0f8ff;border: 1px dotted black;border-radius: 0.25em;box-sizing: border-box;margin-bottom: 0.5em;}#sk-container-id-1 div.sk-estimator:hover {background-color: #d4ebff;}#sk-container-id-1 div.sk-parallel-item::after {content: \"\";width: 100%;border-bottom: 1px solid gray;flex-grow: 1;}#sk-container-id-1 div.sk-label:hover label.sk-toggleable__label {background-color: #d4ebff;}#sk-container-id-1 div.sk-serial::before {content: \"\";position: absolute;border-left: 1px solid gray;box-sizing: border-box;top: 0;bottom: 0;left: 50%;z-index: 0;}#sk-container-id-1 div.sk-serial {display: flex;flex-direction: column;align-items: center;background-color: white;padding-right: 0.2em;padding-left: 0.2em;position: relative;}#sk-container-id-1 div.sk-item {position: relative;z-index: 1;}#sk-container-id-1 div.sk-parallel {display: flex;align-items: stretch;justify-content: center;background-color: white;position: relative;}#sk-container-id-1 div.sk-item::before, #sk-container-id-1 div.sk-parallel-item::before {content: \"\";position: absolute;border-left: 1px solid gray;box-sizing: border-box;top: 0;bottom: 0;left: 50%;z-index: -1;}#sk-container-id-1 div.sk-parallel-item {display: flex;flex-direction: column;z-index: 1;position: relative;background-color: white;}#sk-container-id-1 div.sk-parallel-item:first-child::after {align-self: flex-end;width: 50%;}#sk-container-id-1 div.sk-parallel-item:last-child::after {align-self: flex-start;width: 50%;}#sk-container-id-1 div.sk-parallel-item:only-child::after {width: 0;}#sk-container-id-1 div.sk-dashed-wrapped {border: 1px dashed gray;margin: 0 0.4em 0.5em 0.4em;box-sizing: border-box;padding-bottom: 0.4em;background-color: white;}#sk-container-id-1 div.sk-label label {font-family: monospace;font-weight: bold;display: inline-block;line-height: 1.2em;}#sk-container-id-1 div.sk-label-container {text-align: center;}#sk-container-id-1 div.sk-container {/* jupyter's `normalize.less` sets `[hidden] { display: none; }` but bootstrap.min.css set `[hidden] { display: none !important; }` so we also need the `!important` here to be able to override the default hidden behavior on the sphinx rendered scikit-learn.org. See: https://github.com/scikit-learn/scikit-learn/issues/21755 */display: inline-block !important;position: relative;}#sk-container-id-1 div.sk-text-repr-fallback {display: none;}</style><div id=\"sk-container-id-1\" class=\"sk-top-container\"><div class=\"sk-text-repr-fallback\"><pre>MultinomialNB()</pre><b>In a Jupyter environment, please rerun this cell to show the HTML representation or trust the notebook. <br />On GitHub, the HTML representation is unable to render, please try loading this page with nbviewer.org.</b></div><div class=\"sk-container\" hidden><div class=\"sk-item\"><div class=\"sk-estimator sk-toggleable\"><input class=\"sk-toggleable__control sk-hidden--visually\" id=\"sk-estimator-id-1\" type=\"checkbox\" checked><label for=\"sk-estimator-id-1\" class=\"sk-toggleable__label sk-toggleable__label-arrow\">MultinomialNB</label><div class=\"sk-toggleable__content\"><pre>MultinomialNB()</pre></div></div></div></div></div>"
      ],
      "text/plain": [
       "MultinomialNB()"
      ]
     },
     "execution_count": 47,
     "metadata": {},
     "output_type": "execute_result"
    }
   ],
   "source": [
    "#### applying the algorithm\n",
    "from sklearn.naive_bayes import MultinomialNB\n",
    "model_clf= MultinomialNB()\n",
    "model_clf.fit(X_train,y_train)"
   ]
  },
  {
   "cell_type": "code",
   "execution_count": 51,
   "id": "72f8f7bc",
   "metadata": {},
   "outputs": [],
   "source": [
    "predictions=model_clf.predict(X_test)"
   ]
  },
  {
   "cell_type": "code",
   "execution_count": 52,
   "id": "61f8f586",
   "metadata": {
    "scrolled": true
   },
   "outputs": [
    {
     "name": "stdout",
     "output_type": "stream",
     "text": [
      "['Food' 'Business/Corporate' 'News' 'Travel' 'Health and Fitness'\n",
      " 'Streaming Services' 'Social Networking and Messaging' 'E-Commerce'\n",
      " 'News' 'Education' 'E-Commerce' 'Business/Corporate' 'Education'\n",
      " 'Social Networking and Messaging' 'Business/Corporate' 'News'\n",
      " 'E-Commerce' 'Streaming Services' 'Food' 'Health and Fitness' 'Education'\n",
      " 'Photography' 'Food' 'Sports' 'Travel' 'Business/Corporate' 'Sports'\n",
      " 'News' 'E-Commerce' 'Photography' 'E-Commerce' 'Law and Government'\n",
      " 'Travel' 'Travel' 'Streaming Services' 'Health and Fitness' 'Sports'\n",
      " 'Education' 'Travel' 'Health and Fitness' 'Business/Corporate'\n",
      " 'Education' 'Photography' 'E-Commerce' 'Business/Corporate'\n",
      " 'Computers and Technology' 'Streaming Services' 'Business/Corporate'\n",
      " 'Education' 'News' 'Games' 'Games' 'E-Commerce' 'Travel' 'Travel'\n",
      " 'Streaming Services' 'Social Networking and Messaging'\n",
      " 'Business/Corporate' 'Health and Fitness' 'Business/Corporate' 'News'\n",
      " 'Travel' 'Streaming Services' 'Streaming Services' 'Streaming Services'\n",
      " 'Law and Government' 'Social Networking and Messaging'\n",
      " 'Streaming Services' 'Health and Fitness' 'Education'\n",
      " 'Social Networking and Messaging' 'Law and Government'\n",
      " 'Health and Fitness' 'Social Networking and Messaging'\n",
      " 'Streaming Services' 'Streaming Services' 'Sports' 'Health and Fitness'\n",
      " 'Travel' 'Travel' 'Photography' 'Law and Government' 'News' 'Education'\n",
      " 'News' 'Food' 'Business/Corporate' 'Business/Corporate' 'Food'\n",
      " 'Education' 'Games' 'News' 'News' 'Education' 'Health and Fitness'\n",
      " 'Sports' 'News' 'Travel' 'Travel' 'Computers and Technology' 'Sports'\n",
      " 'Games' 'News' 'News' 'Education' 'Business/Corporate'\n",
      " 'Streaming Services' 'Education' 'Health and Fitness' 'Education'\n",
      " 'Streaming Services' 'Travel' 'Business/Corporate' 'News' 'Photography'\n",
      " 'E-Commerce' 'E-Commerce' 'Streaming Services' 'Business/Corporate'\n",
      " 'News' 'Games' 'Streaming Services' 'Sports' 'Games' 'Health and Fitness'\n",
      " 'Computers and Technology' 'News' 'Food' 'Health and Fitness'\n",
      " 'Streaming Services' 'Travel' 'Streaming Services' 'Business/Corporate'\n",
      " 'Social Networking and Messaging' 'Health and Fitness' 'Sports'\n",
      " 'Photography' 'Business/Corporate' 'Travel' 'Law and Government'\n",
      " 'Business/Corporate' 'Streaming Services' 'Education' 'Education'\n",
      " 'Health and Fitness' 'Streaming Services' 'News' 'E-Commerce'\n",
      " 'Law and Government' 'News' 'Health and Fitness' 'Law and Government'\n",
      " 'Law and Government' 'Food' 'Travel' 'Food' 'Games' 'Education' 'Sports'\n",
      " 'Travel' 'Sports' 'Computers and Technology' 'News'\n",
      " 'Social Networking and Messaging' 'Social Networking and Messaging'\n",
      " 'Computers and Technology' 'Education' 'Law and Government'\n",
      " 'Computers and Technology' 'News' 'Games' 'Education' 'Sports'\n",
      " 'Photography' 'Computers and Technology' 'Health and Fitness' 'News'\n",
      " 'Food' 'Photography' 'News' 'E-Commerce' 'Photography' 'Food'\n",
      " 'Streaming Services' 'Photography' 'News' 'E-Commerce'\n",
      " 'Computers and Technology' 'Food' 'Photography' 'Business/Corporate'\n",
      " 'Streaming Services' 'Business/Corporate' 'Streaming Services'\n",
      " 'Social Networking and Messaging' 'Business/Corporate' 'News' 'News'\n",
      " 'News' 'Travel' 'Education' 'Computers and Technology' 'Travel'\n",
      " 'Health and Fitness' 'Sports' 'Law and Government' 'Education'\n",
      " 'Streaming Services' 'Sports' 'E-Commerce' 'Travel' 'Games'\n",
      " 'Health and Fitness' 'Law and Government' 'Education' 'Photography'\n",
      " 'Computers and Technology' 'Games' 'News' 'Photography'\n",
      " 'Computers and Technology' 'Business/Corporate' 'Law and Government'\n",
      " 'Computers and Technology' 'News' 'Business/Corporate' 'Sports'\n",
      " 'Streaming Services' 'News' 'Education' 'Games'\n",
      " 'Social Networking and Messaging' 'Games' 'Business/Corporate'\n",
      " 'E-Commerce' 'Business/Corporate' 'Health and Fitness' 'Sports' 'News'\n",
      " 'Streaming Services' 'E-Commerce' 'Photography' 'Education' 'Education'\n",
      " 'Sports' 'Business/Corporate' 'News' 'Sports' 'Health and Fitness' 'Food'\n",
      " 'Sports' 'E-Commerce' 'E-Commerce' 'Travel' 'Business/Corporate' 'Travel'\n",
      " 'Streaming Services' 'Health and Fitness' 'Health and Fitness'\n",
      " 'Education' 'Health and Fitness' 'Education' 'E-Commerce' 'Sports'\n",
      " 'Streaming Services' 'Business/Corporate' 'Computers and Technology'\n",
      " 'Streaming Services' 'Games' 'Games' 'Business/Corporate' 'News' 'Games'\n",
      " 'Streaming Services' 'Games' 'Streaming Services' 'Business/Corporate'\n",
      " 'Business/Corporate' 'Sports' 'Business/Corporate' 'News' 'Education'\n",
      " 'Social Networking and Messaging' 'Food' 'E-Commerce'\n",
      " 'Streaming Services' 'Photography' 'Travel' 'Streaming Services'\n",
      " 'Law and Government' 'E-Commerce' 'Streaming Services'\n",
      " 'Business/Corporate' 'Games' 'E-Commerce' 'Photography'\n",
      " 'Streaming Services' 'Games' 'News' 'Travel' 'Education' 'News'\n",
      " 'Education' 'Streaming Services' 'News' 'Social Networking and Messaging'\n",
      " 'Games' 'Law and Government' 'Games' 'Computers and Technology'\n",
      " 'Streaming Services' 'Health and Fitness' 'Food' 'E-Commerce'\n",
      " 'Business/Corporate' 'Sports' 'Social Networking and Messaging'\n",
      " 'Business/Corporate' 'News' 'Photography' 'Education' 'Travel' 'News'\n",
      " 'Law and Government' 'Computers and Technology' 'Photography'\n",
      " 'Social Networking and Messaging' 'Business/Corporate' 'News'\n",
      " 'Law and Government' 'Education' 'Food' 'Education' 'Health and Fitness'\n",
      " 'Business/Corporate' 'Education' 'Education' 'Travel'\n",
      " 'Health and Fitness' 'Food' 'Business/Corporate' 'Law and Government'\n",
      " 'Computers and Technology' 'Business/Corporate' 'Streaming Services'\n",
      " 'Education' 'E-Commerce' 'Business/Corporate' 'E-Commerce'\n",
      " 'Business/Corporate' 'Social Networking and Messaging' 'News' 'Games'\n",
      " 'Education' 'E-Commerce' 'Health and Fitness'\n",
      " 'Social Networking and Messaging' 'Social Networking and Messaging'\n",
      " 'Law and Government' 'Travel' 'Photography' 'E-Commerce' 'Sports' 'Food'\n",
      " 'Education' 'Travel' 'Social Networking and Messaging' 'Travel'\n",
      " 'Streaming Services' 'Sports' 'Food' 'Games' 'Education'\n",
      " 'Streaming Services' 'Business/Corporate'\n",
      " 'Social Networking and Messaging' 'Food' 'Health and Fitness' 'Food'\n",
      " 'News' 'Games' 'Photography' 'Games' 'News' 'Sports' 'Business/Corporate'\n",
      " 'Sports' 'Education' 'Health and Fitness' 'Games' 'Photography'\n",
      " 'Photography' 'Sports' 'Travel' 'Law and Government' 'News' 'News'\n",
      " 'Law and Government' 'Travel' 'E-Commerce' 'Education' 'Sports'\n",
      " 'Photography' 'Education' 'Education' 'Sports' 'Computers and Technology'\n",
      " 'Health and Fitness' 'Sports' 'Photography' 'Photography'\n",
      " 'Business/Corporate' 'Health and Fitness' 'Food' 'Games'\n",
      " 'Social Networking and Messaging' 'Computers and Technology' 'E-Commerce'\n",
      " 'Education' 'Law and Government' 'Law and Government'\n",
      " 'Computers and Technology' 'Games']\n"
     ]
    }
   ],
   "source": [
    "print(predictions)"
   ]
  },
  {
   "cell_type": "code",
   "execution_count": 53,
   "id": "8fa6358e",
   "metadata": {
    "scrolled": true
   },
   "outputs": [
    {
     "name": "stdout",
     "output_type": "stream",
     "text": [
      "                                 precision    recall  f1-score   support\n",
      "\n",
      "                          Adult       0.00      0.00      0.00         0\n",
      "             Business/Corporate       0.97      0.67      0.79        43\n",
      "       Computers and Technology       0.64      0.84      0.73        19\n",
      "                     E-Commerce       0.89      0.89      0.89        28\n",
      "                      Education       0.97      0.88      0.93        43\n",
      "                           Food       0.95      1.00      0.98        21\n",
      "                         Forums       0.00      0.00      0.00         0\n",
      "                          Games       0.87      1.00      0.93        27\n",
      "             Health and Fitness       0.91      1.00      0.95        31\n",
      "             Law and Government       0.73      1.00      0.85        22\n",
      "                           News       0.93      0.64      0.76        44\n",
      "                    Photography       0.91      0.80      0.85        25\n",
      "Social Networking and Messaging       0.81      1.00      0.89        21\n",
      "                         Sports       0.96      0.93      0.95        29\n",
      "             Streaming Services       0.95      0.95      0.95        39\n",
      "                         Travel       1.00      0.94      0.97        31\n",
      "\n",
      "                       accuracy                           0.88       423\n",
      "                      macro avg       0.78      0.78      0.78       423\n",
      "                   weighted avg       0.91      0.88      0.89       423\n",
      "\n"
     ]
    },
    {
     "name": "stderr",
     "output_type": "stream",
     "text": [
      "/Users/sebastianandersonguerrero/proyecto_final_Full_Stack/env/lib/python3.11/site-packages/sklearn/metrics/_classification.py:1344: UndefinedMetricWarning: Recall and F-score are ill-defined and being set to 0.0 in labels with no true samples. Use `zero_division` parameter to control this behavior.\n",
      "  _warn_prf(average, modifier, msg_start, len(result))\n",
      "/Users/sebastianandersonguerrero/proyecto_final_Full_Stack/env/lib/python3.11/site-packages/sklearn/metrics/_classification.py:1344: UndefinedMetricWarning: Recall and F-score are ill-defined and being set to 0.0 in labels with no true samples. Use `zero_division` parameter to control this behavior.\n",
      "  _warn_prf(average, modifier, msg_start, len(result))\n",
      "/Users/sebastianandersonguerrero/proyecto_final_Full_Stack/env/lib/python3.11/site-packages/sklearn/metrics/_classification.py:1344: UndefinedMetricWarning: Recall and F-score are ill-defined and being set to 0.0 in labels with no true samples. Use `zero_division` parameter to control this behavior.\n",
      "  _warn_prf(average, modifier, msg_start, len(result))\n"
     ]
    }
   ],
   "source": [
    "print(classification_report(predictions,y_test))"
   ]
  },
  {
   "cell_type": "code",
   "execution_count": 54,
   "id": "c1f2ed26",
   "metadata": {},
   "outputs": [
    {
     "data": {
      "text/plain": [
       "<Axes: >"
      ]
     },
     "execution_count": 54,
     "metadata": {},
     "output_type": "execute_result"
    },
    {
     "data": {
      "image/png": "[encoded data removed]",
      "text/plain": [
       "<Figure size 1000x600 with 2 Axes>"
      ]
     },
     "metadata": {},
     "output_type": "display_data"
    }
   ],
   "source": [
    "plt.figure(figsize=(10,6))\n",
    "sns.heatmap(confusion_matrix(predictions,y_test),cmap='YlGn_r',annot=True)"
   ]
  },
  {
   "cell_type": "code",
   "execution_count": 55,
   "id": "8fcc69c6",
   "metadata": {},
   "outputs": [
    {
     "name": "stdout",
     "output_type": "stream",
     "text": [
      "0.8770685579196218\n"
     ]
    }
   ],
   "source": [
    "print(accuracy_score(predictions,y_test))"
   ]
  },
  {
   "cell_type": "markdown",
   "id": "06fbab5a",
   "metadata": {},
   "source": [
    "# Support Vector Machines"
   ]
  },
  {
   "cell_type": "code",
   "execution_count": 58,
   "id": "25660cdb",
   "metadata": {},
   "outputs": [
    {
     "data": {
      "text/html": [
       "<style>#sk-container-id-3 {color: black;background-color: white;}#sk-container-id-3 pre{padding: 0;}#sk-container-id-3 div.sk-toggleable {background-color: white;}#sk-container-id-3 label.sk-toggleable__label {cursor: pointer;display: block;width: 100%;margin-bottom: 0;padding: 0.3em;box-sizing: border-box;text-align: center;}#sk-container-id-3 label.sk-toggleable__label-arrow:before {content: \"▸\";float: left;margin-right: 0.25em;color: #696969;}#sk-container-id-3 label.sk-toggleable__label-arrow:hover:before {color: black;}#sk-container-id-3 div.sk-estimator:hover label.sk-toggleable__label-arrow:before {color: black;}#sk-container-id-3 div.sk-toggleable__content {max-height: 0;max-width: 0;overflow: hidden;text-align: left;background-color: #f0f8ff;}#sk-container-id-3 div.sk-toggleable__content pre {margin: 0.2em;color: black;border-radius: 0.25em;background-color: #f0f8ff;}#sk-container-id-3 input.sk-toggleable__control:checked~div.sk-toggleable__content {max-height: 200px;max-width: 100%;overflow: auto;}#sk-container-id-3 input.sk-toggleable__control:checked~label.sk-toggleable__label-arrow:before {content: \"▾\";}#sk-container-id-3 div.sk-estimator input.sk-toggleable__control:checked~label.sk-toggleable__label {background-color: #d4ebff;}#sk-container-id-3 div.sk-label input.sk-toggleable__control:checked~label.sk-toggleable__label {background-color: #d4ebff;}#sk-container-id-3 input.sk-hidden--visually {border: 0;clip: rect(1px 1px 1px 1px);clip: rect(1px, 1px, 1px, 1px);height: 1px;margin: -1px;overflow: hidden;padding: 0;position: absolute;width: 1px;}#sk-container-id-3 div.sk-estimator {font-family: monospace;background-color: #f0f8ff;border: 1px dotted black;border-radius: 0.25em;box-sizing: border-box;margin-bottom: 0.5em;}#sk-container-id-3 div.sk-estimator:hover {background-color: #d4ebff;}#sk-container-id-3 div.sk-parallel-item::after {content: \"\";width: 100%;border-bottom: 1px solid gray;flex-grow: 1;}#sk-container-id-3 div.sk-label:hover label.sk-toggleable__label {background-color: #d4ebff;}#sk-container-id-3 div.sk-serial::before {content: \"\";position: absolute;border-left: 1px solid gray;box-sizing: border-box;top: 0;bottom: 0;left: 50%;z-index: 0;}#sk-container-id-3 div.sk-serial {display: flex;flex-direction: column;align-items: center;background-color: white;padding-right: 0.2em;padding-left: 0.2em;position: relative;}#sk-container-id-3 div.sk-item {position: relative;z-index: 1;}#sk-container-id-3 div.sk-parallel {display: flex;align-items: stretch;justify-content: center;background-color: white;position: relative;}#sk-container-id-3 div.sk-item::before, #sk-container-id-3 div.sk-parallel-item::before {content: \"\";position: absolute;border-left: 1px solid gray;box-sizing: border-box;top: 0;bottom: 0;left: 50%;z-index: -1;}#sk-container-id-3 div.sk-parallel-item {display: flex;flex-direction: column;z-index: 1;position: relative;background-color: white;}#sk-container-id-3 div.sk-parallel-item:first-child::after {align-self: flex-end;width: 50%;}#sk-container-id-3 div.sk-parallel-item:last-child::after {align-self: flex-start;width: 50%;}#sk-container-id-3 div.sk-parallel-item:only-child::after {width: 0;}#sk-container-id-3 div.sk-dashed-wrapped {border: 1px dashed gray;margin: 0 0.4em 0.5em 0.4em;box-sizing: border-box;padding-bottom: 0.4em;background-color: white;}#sk-container-id-3 div.sk-label label {font-family: monospace;font-weight: bold;display: inline-block;line-height: 1.2em;}#sk-container-id-3 div.sk-label-container {text-align: center;}#sk-container-id-3 div.sk-container {/* jupyter's `normalize.less` sets `[hidden] { display: none; }` but bootstrap.min.css set `[hidden] { display: none !important; }` so we also need the `!important` here to be able to override the default hidden behavior on the sphinx rendered scikit-learn.org. See: https://github.com/scikit-learn/scikit-learn/issues/21755 */display: inline-block !important;position: relative;}#sk-container-id-3 div.sk-text-repr-fallback {display: none;}</style><div id=\"sk-container-id-3\" class=\"sk-top-container\"><div class=\"sk-text-repr-fallback\"><pre>SVC()</pre><b>In a Jupyter environment, please rerun this cell to show the HTML representation or trust the notebook. <br />On GitHub, the HTML representation is unable to render, please try loading this page with nbviewer.org.</b></div><div class=\"sk-container\" hidden><div class=\"sk-item\"><div class=\"sk-estimator sk-toggleable\"><input class=\"sk-toggleable__control sk-hidden--visually\" id=\"sk-estimator-id-3\" type=\"checkbox\" checked><label for=\"sk-estimator-id-3\" class=\"sk-toggleable__label sk-toggleable__label-arrow\">SVC</label><div class=\"sk-toggleable__content\"><pre>SVC()</pre></div></div></div></div></div>"
      ],
      "text/plain": [
       "SVC()"
      ]
     },
     "execution_count": 58,
     "metadata": {},
     "output_type": "execute_result"
    }
   ],
   "source": [
    "from sklearn.svm import SVC\n",
    "model_svc= SVC()\n",
    "model_svc.fit(X_train,y_train)"
   ]
  },
  {
   "cell_type": "code",
   "execution_count": 59,
   "id": "bab05c1a",
   "metadata": {},
   "outputs": [],
   "source": [
    "predictions_svc=model_svc.predict(X_test)"
   ]
  },
  {
   "cell_type": "code",
   "execution_count": 60,
   "id": "6e31cb75",
   "metadata": {},
   "outputs": [
    {
     "data": {
      "text/plain": [
       "array(['Food', 'Business/Corporate', 'News', 'Travel',\n",
       "       'Health and Fitness', 'Business/Corporate',\n",
       "       'Social Networking and Messaging', 'E-Commerce', 'News',\n",
       "       'Education', 'E-Commerce', 'Business/Corporate', 'Education',\n",
       "       'Social Networking and Messaging', 'Business/Corporate', 'News',\n",
       "       'E-Commerce', 'Streaming Services', 'Business/Corporate',\n",
       "       'Health and Fitness', 'Education', 'Photography',\n",
       "       'Business/Corporate', 'Sports', 'Travel', 'Business/Corporate',\n",
       "       'Games', 'News', 'E-Commerce', 'Photography', 'E-Commerce',\n",
       "       'Law and Government', 'Travel', 'Travel', 'Streaming Services',\n",
       "       'Business/Corporate', 'Sports', 'Education', 'Travel',\n",
       "       'Health and Fitness', 'Business/Corporate', 'Education',\n",
       "       'Photography', 'E-Commerce', 'Computers and Technology',\n",
       "       'Computers and Technology', 'Streaming Services',\n",
       "       'Business/Corporate', 'Education', 'News', 'Games', 'Games',\n",
       "       'Business/Corporate', 'Travel', 'Travel', 'Streaming Services',\n",
       "       'Social Networking and Messaging', 'Computers and Technology',\n",
       "       'Health and Fitness', 'Business/Corporate', 'News', 'Travel',\n",
       "       'Streaming Services', 'Computers and Technology',\n",
       "       'Business/Corporate', 'Law and Government',\n",
       "       'Social Networking and Messaging', 'Streaming Services',\n",
       "       'Health and Fitness', 'Education',\n",
       "       'Social Networking and Messaging', 'Law and Government',\n",
       "       'Health and Fitness', 'Social Networking and Messaging',\n",
       "       'Streaming Services', 'Streaming Services', 'Sports',\n",
       "       'Health and Fitness', 'Travel', 'Travel', 'Photography',\n",
       "       'Law and Government', 'News', 'Education', 'News',\n",
       "       'Business/Corporate', 'Business/Corporate', 'Business/Corporate',\n",
       "       'Food', 'Education', 'Games', 'News', 'News', 'Education',\n",
       "       'Health and Fitness', 'Sports', 'Adult', 'Travel', 'Travel',\n",
       "       'Computers and Technology', 'Sports', 'Games', 'News', 'News',\n",
       "       'Education', 'Business/Corporate', 'Streaming Services',\n",
       "       'Education', 'Health and Fitness', 'Business/Corporate',\n",
       "       'Streaming Services', 'Travel', 'Business/Corporate',\n",
       "       'Business/Corporate', 'Business/Corporate', 'Business/Corporate',\n",
       "       'E-Commerce', 'Streaming Services', 'Business/Corporate', 'News',\n",
       "       'Games', 'Streaming Services', 'Sports', 'Games',\n",
       "       'Health and Fitness', 'Computers and Technology',\n",
       "       'Law and Government', 'Food', 'Business/Corporate',\n",
       "       'Streaming Services', 'Travel', 'Business/Corporate',\n",
       "       'Business/Corporate', 'Social Networking and Messaging',\n",
       "       'Health and Fitness', 'Sports', 'Business/Corporate',\n",
       "       'Business/Corporate', 'Travel', 'Law and Government',\n",
       "       'Business/Corporate', 'Streaming Services', 'Education',\n",
       "       'Education', 'Health and Fitness', 'Streaming Services', 'News',\n",
       "       'E-Commerce', 'Law and Government', 'News', 'Health and Fitness',\n",
       "       'Law and Government', 'Law and Government', 'Food', 'Travel',\n",
       "       'Food', 'Games', 'Education', 'Sports', 'Travel', 'Sports',\n",
       "       'Computers and Technology', 'News', 'Business/Corporate',\n",
       "       'Social Networking and Messaging', 'Computers and Technology',\n",
       "       'Education', 'Law and Government', 'Computers and Technology',\n",
       "       'Business/Corporate', 'Games', 'Education', 'Business/Corporate',\n",
       "       'Photography', 'Computers and Technology', 'Business/Corporate',\n",
       "       'Business/Corporate', 'Food', 'Photography', 'News', 'E-Commerce',\n",
       "       'Photography', 'Food', 'Streaming Services', 'Photography',\n",
       "       'Games', 'E-Commerce', 'Computers and Technology', 'Food',\n",
       "       'Business/Corporate', 'Business/Corporate', 'Streaming Services',\n",
       "       'Business/Corporate', 'Streaming Services',\n",
       "       'Social Networking and Messaging', 'Business/Corporate',\n",
       "       'Business/Corporate', 'News', 'Business/Corporate', 'Travel',\n",
       "       'Education', 'Computers and Technology', 'Travel',\n",
       "       'Health and Fitness', 'Games', 'Law and Government',\n",
       "       'Business/Corporate', 'Streaming Services', 'Sports', 'E-Commerce',\n",
       "       'Travel', 'Games', 'Health and Fitness', 'Law and Government',\n",
       "       'Education', 'Business/Corporate', 'Computers and Technology',\n",
       "       'Games', 'News', 'Computers and Technology',\n",
       "       'Computers and Technology', 'Business/Corporate',\n",
       "       'Law and Government', 'Computers and Technology', 'News',\n",
       "       'Business/Corporate', 'Sports', 'Streaming Services',\n",
       "       'Business/Corporate', 'Education', 'Games',\n",
       "       'Social Networking and Messaging', 'Games', 'Business/Corporate',\n",
       "       'E-Commerce', 'Business/Corporate', 'Health and Fitness', 'Sports',\n",
       "       'News', 'Streaming Services', 'E-Commerce', 'Photography',\n",
       "       'Education', 'Education', 'Sports', 'Business/Corporate',\n",
       "       'Education', 'Sports', 'Education', 'Food', 'Sports', 'E-Commerce',\n",
       "       'E-Commerce', 'Travel', 'Business/Corporate', 'Travel',\n",
       "       'Streaming Services', 'Health and Fitness', 'Health and Fitness',\n",
       "       'Education', 'Health and Fitness', 'Education', 'E-Commerce',\n",
       "       'Sports', 'Streaming Services', 'Business/Corporate',\n",
       "       'Computers and Technology', 'Streaming Services', 'Games', 'Games',\n",
       "       'Business/Corporate', 'News', 'Games', 'Streaming Services',\n",
       "       'Games', 'Streaming Services', 'Business/Corporate',\n",
       "       'Business/Corporate', 'Sports', 'Business/Corporate', 'News',\n",
       "       'Business/Corporate', 'Business/Corporate', 'Food', 'E-Commerce',\n",
       "       'Streaming Services', 'Photography', 'Business/Corporate',\n",
       "       'Business/Corporate', 'Law and Government', 'E-Commerce',\n",
       "       'Streaming Services', 'Business/Corporate', 'Games', 'E-Commerce',\n",
       "       'Photography', 'Streaming Services', 'Games', 'Law and Government',\n",
       "       'Business/Corporate', 'Education', 'Streaming Services',\n",
       "       'Education', 'Streaming Services', 'Health and Fitness',\n",
       "       'Social Networking and Messaging', 'Games', 'Law and Government',\n",
       "       'Games', 'Computers and Technology', 'Streaming Services',\n",
       "       'Health and Fitness', 'Food', 'E-Commerce', 'Business/Corporate',\n",
       "       'Sports', 'Social Networking and Messaging', 'Business/Corporate',\n",
       "       'News', 'Photography', 'Computers and Technology', 'Travel',\n",
       "       'Law and Government', 'Law and Government',\n",
       "       'Computers and Technology', 'Photography',\n",
       "       'Social Networking and Messaging', 'Business/Corporate',\n",
       "       'Business/Corporate', 'Law and Government', 'Education',\n",
       "       'E-Commerce', 'Computers and Technology', 'Health and Fitness',\n",
       "       'Business/Corporate', 'Education', 'Education',\n",
       "       'Business/Corporate', 'Health and Fitness', 'Food',\n",
       "       'Business/Corporate', 'Law and Government',\n",
       "       'Computers and Technology', 'Business/Corporate',\n",
       "       'Streaming Services', 'Education', 'E-Commerce',\n",
       "       'Business/Corporate', 'E-Commerce', 'Business/Corporate',\n",
       "       'Social Networking and Messaging', 'Law and Government', 'Games',\n",
       "       'Education', 'E-Commerce', 'Health and Fitness',\n",
       "       'Social Networking and Messaging',\n",
       "       'Social Networking and Messaging', 'Law and Government', 'Travel',\n",
       "       'Business/Corporate', 'E-Commerce', 'Sports', 'Business/Corporate',\n",
       "       'Education', 'Travel', 'Social Networking and Messaging',\n",
       "       'Business/Corporate', 'Streaming Services', 'Sports', 'Food',\n",
       "       'Games', 'Education', 'Streaming Services', 'Business/Corporate',\n",
       "       'Social Networking and Messaging', 'Food', 'Health and Fitness',\n",
       "       'Food', 'News', 'Games', 'Business/Corporate', 'Games', 'News',\n",
       "       'Sports', 'Business/Corporate', 'Sports', 'Education',\n",
       "       'Health and Fitness', 'Games', 'Photography', 'Photography',\n",
       "       'Sports', 'Travel', 'Law and Government', 'News', 'News',\n",
       "       'Law and Government', 'Travel', 'E-Commerce', 'Education',\n",
       "       'Sports', 'Photography', 'Education', 'Education', 'Sports',\n",
       "       'Computers and Technology', 'Health and Fitness', 'Sports',\n",
       "       'Photography', 'Photography', 'Business/Corporate',\n",
       "       'Health and Fitness', 'Food', 'Games',\n",
       "       'Social Networking and Messaging', 'Computers and Technology',\n",
       "       'E-Commerce', 'Education', 'Law and Government',\n",
       "       'Law and Government', 'Business/Corporate', 'Games'], dtype=object)"
      ]
     },
     "execution_count": 60,
     "metadata": {},
     "output_type": "execute_result"
    }
   ],
   "source": [
    "predictions_svc"
   ]
  },
  {
   "cell_type": "code",
   "execution_count": 61,
   "id": "f9e03467",
   "metadata": {
    "scrolled": true
   },
   "outputs": [
    {
     "name": "stdout",
     "output_type": "stream",
     "text": [
      "                                 precision    recall  f1-score   support\n",
      "\n",
      "                          Adult       0.33      1.00      0.50         1\n",
      "             Business/Corporate       0.97      0.37      0.54        78\n",
      "       Computers and Technology       0.84      0.88      0.86        24\n",
      "                     E-Commerce       0.89      0.93      0.91        27\n",
      "                      Education       0.95      0.93      0.94        40\n",
      "                           Food       0.73      1.00      0.84        16\n",
      "                         Forums       0.00      0.00      0.00         0\n",
      "                          Games       0.97      1.00      0.98        30\n",
      "             Health and Fitness       0.82      1.00      0.90        28\n",
      "             Law and Government       0.87      1.00      0.93        26\n",
      "                           News       0.87      0.93      0.90        28\n",
      "                    Photography       0.77      0.94      0.85        18\n",
      "Social Networking and Messaging       0.73      1.00      0.84        19\n",
      "                         Sports       0.93      1.00      0.96        26\n",
      "             Streaming Services       0.87      0.97      0.92        35\n",
      "                         Travel       0.90      0.96      0.93        27\n",
      "\n",
      "                       accuracy                           0.85       423\n",
      "                      macro avg       0.78      0.87      0.80       423\n",
      "                   weighted avg       0.89      0.85      0.84       423\n",
      "\n"
     ]
    },
    {
     "name": "stderr",
     "output_type": "stream",
     "text": [
      "/Users/sebastianandersonguerrero/proyecto_final_Full_Stack/env/lib/python3.11/site-packages/sklearn/metrics/_classification.py:1344: UndefinedMetricWarning: Recall and F-score are ill-defined and being set to 0.0 in labels with no true samples. Use `zero_division` parameter to control this behavior.\n",
      "  _warn_prf(average, modifier, msg_start, len(result))\n",
      "/Users/sebastianandersonguerrero/proyecto_final_Full_Stack/env/lib/python3.11/site-packages/sklearn/metrics/_classification.py:1344: UndefinedMetricWarning: Recall and F-score are ill-defined and being set to 0.0 in labels with no true samples. Use `zero_division` parameter to control this behavior.\n",
      "  _warn_prf(average, modifier, msg_start, len(result))\n",
      "/Users/sebastianandersonguerrero/proyecto_final_Full_Stack/env/lib/python3.11/site-packages/sklearn/metrics/_classification.py:1344: UndefinedMetricWarning: Recall and F-score are ill-defined and being set to 0.0 in labels with no true samples. Use `zero_division` parameter to control this behavior.\n",
      "  _warn_prf(average, modifier, msg_start, len(result))\n"
     ]
    }
   ],
   "source": [
    "print(classification_report(predictions_svc,y_test))"
   ]
  },
  {
   "cell_type": "code",
   "execution_count": 63,
   "id": "54debabf",
   "metadata": {},
   "outputs": [
    {
     "data": {
      "text/plain": [
       "<Axes: >"
      ]
     },
     "execution_count": 63,
     "metadata": {},
     "output_type": "execute_result"
    },
    {
     "data": {
      "image/png": "[encoded data removed]",
      "text/plain": [
       "<Figure size 1000x600 with 2 Axes>"
      ]
     },
     "metadata": {},
     "output_type": "display_data"
    }
   ],
   "source": [
    "plt.figure(figsize=(10,6))\n",
    "sns.heatmap(confusion_matrix(predictions_svc,y_test),cmap='YlOrBr',annot=True)"
   ]
  },
  {
   "cell_type": "code",
   "execution_count": 64,
   "id": "567e0763",
   "metadata": {
    "scrolled": true
   },
   "outputs": [
    {
     "name": "stdout",
     "output_type": "stream",
     "text": [
      "0.8534278959810875\n"
     ]
    }
   ],
   "source": [
    "print(accuracy_score(predictions_svc,y_test))"
   ]
  },
  {
   "cell_type": "markdown",
   "id": "4307c043",
   "metadata": {},
   "source": [
    "# Tensorflow"
   ]
  },
  {
   "cell_type": "code",
   "execution_count": 65,
   "id": "54ac0462",
   "metadata": {},
   "outputs": [
    {
     "data": {
      "text/html": [
       "<style>#sk-container-id-4 {color: black;background-color: white;}#sk-container-id-4 pre{padding: 0;}#sk-container-id-4 div.sk-toggleable {background-color: white;}#sk-container-id-4 label.sk-toggleable__label {cursor: pointer;display: block;width: 100%;margin-bottom: 0;padding: 0.3em;box-sizing: border-box;text-align: center;}#sk-container-id-4 label.sk-toggleable__label-arrow:before {content: \"▸\";float: left;margin-right: 0.25em;color: #696969;}#sk-container-id-4 label.sk-toggleable__label-arrow:hover:before {color: black;}#sk-container-id-4 div.sk-estimator:hover label.sk-toggleable__label-arrow:before {color: black;}#sk-container-id-4 div.sk-toggleable__content {max-height: 0;max-width: 0;overflow: hidden;text-align: left;background-color: #f0f8ff;}#sk-container-id-4 div.sk-toggleable__content pre {margin: 0.2em;color: black;border-radius: 0.25em;background-color: #f0f8ff;}#sk-container-id-4 input.sk-toggleable__control:checked~div.sk-toggleable__content {max-height: 200px;max-width: 100%;overflow: auto;}#sk-container-id-4 input.sk-toggleable__control:checked~label.sk-toggleable__label-arrow:before {content: \"▾\";}#sk-container-id-4 div.sk-estimator input.sk-toggleable__control:checked~label.sk-toggleable__label {background-color: #d4ebff;}#sk-container-id-4 div.sk-label input.sk-toggleable__control:checked~label.sk-toggleable__label {background-color: #d4ebff;}#sk-container-id-4 input.sk-hidden--visually {border: 0;clip: rect(1px 1px 1px 1px);clip: rect(1px, 1px, 1px, 1px);height: 1px;margin: -1px;overflow: hidden;padding: 0;position: absolute;width: 1px;}#sk-container-id-4 div.sk-estimator {font-family: monospace;background-color: #f0f8ff;border: 1px dotted black;border-radius: 0.25em;box-sizing: border-box;margin-bottom: 0.5em;}#sk-container-id-4 div.sk-estimator:hover {background-color: #d4ebff;}#sk-container-id-4 div.sk-parallel-item::after {content: \"\";width: 100%;border-bottom: 1px solid gray;flex-grow: 1;}#sk-container-id-4 div.sk-label:hover label.sk-toggleable__label {background-color: #d4ebff;}#sk-container-id-4 div.sk-serial::before {content: \"\";position: absolute;border-left: 1px solid gray;box-sizing: border-box;top: 0;bottom: 0;left: 50%;z-index: 0;}#sk-container-id-4 div.sk-serial {display: flex;flex-direction: column;align-items: center;background-color: white;padding-right: 0.2em;padding-left: 0.2em;position: relative;}#sk-container-id-4 div.sk-item {position: relative;z-index: 1;}#sk-container-id-4 div.sk-parallel {display: flex;align-items: stretch;justify-content: center;background-color: white;position: relative;}#sk-container-id-4 div.sk-item::before, #sk-container-id-4 div.sk-parallel-item::before {content: \"\";position: absolute;border-left: 1px solid gray;box-sizing: border-box;top: 0;bottom: 0;left: 50%;z-index: -1;}#sk-container-id-4 div.sk-parallel-item {display: flex;flex-direction: column;z-index: 1;position: relative;background-color: white;}#sk-container-id-4 div.sk-parallel-item:first-child::after {align-self: flex-end;width: 50%;}#sk-container-id-4 div.sk-parallel-item:last-child::after {align-self: flex-start;width: 50%;}#sk-container-id-4 div.sk-parallel-item:only-child::after {width: 0;}#sk-container-id-4 div.sk-dashed-wrapped {border: 1px dashed gray;margin: 0 0.4em 0.5em 0.4em;box-sizing: border-box;padding-bottom: 0.4em;background-color: white;}#sk-container-id-4 div.sk-label label {font-family: monospace;font-weight: bold;display: inline-block;line-height: 1.2em;}#sk-container-id-4 div.sk-label-container {text-align: center;}#sk-container-id-4 div.sk-container {/* jupyter's `normalize.less` sets `[hidden] { display: none; }` but bootstrap.min.css set `[hidden] { display: none !important; }` so we also need the `!important` here to be able to override the default hidden behavior on the sphinx rendered scikit-learn.org. See: https://github.com/scikit-learn/scikit-learn/issues/21755 */display: inline-block !important;position: relative;}#sk-container-id-4 div.sk-text-repr-fallback {display: none;}</style><div id=\"sk-container-id-4\" class=\"sk-top-container\"><div class=\"sk-text-repr-fallback\"><pre>RandomForestClassifier()</pre><b>In a Jupyter environment, please rerun this cell to show the HTML representation or trust the notebook. <br />On GitHub, the HTML representation is unable to render, please try loading this page with nbviewer.org.</b></div><div class=\"sk-container\" hidden><div class=\"sk-item\"><div class=\"sk-estimator sk-toggleable\"><input class=\"sk-toggleable__control sk-hidden--visually\" id=\"sk-estimator-id-4\" type=\"checkbox\" checked><label for=\"sk-estimator-id-4\" class=\"sk-toggleable__label sk-toggleable__label-arrow\">RandomForestClassifier</label><div class=\"sk-toggleable__content\"><pre>RandomForestClassifier()</pre></div></div></div></div></div>"
      ],
      "text/plain": [
       "RandomForestClassifier()"
      ]
     },
     "execution_count": 65,
     "metadata": {},
     "output_type": "execute_result"
    }
   ],
   "source": [
    "from sklearn.ensemble import RandomForestClassifier\n",
    "model_rfc=RandomForestClassifier()\n",
    "model_rfc.fit(X_train,y_train)"
   ]
  },
  {
   "cell_type": "code",
   "execution_count": 66,
   "id": "a46a0174",
   "metadata": {},
   "outputs": [],
   "source": [
    "predictions_rfc=model_rfc.predict(X_test)"
   ]
  },
  {
   "cell_type": "code",
   "execution_count": 67,
   "id": "5bbcead3",
   "metadata": {},
   "outputs": [
    {
     "data": {
      "text/plain": [
       "array(['Food', 'Education', 'News', 'Travel', 'Health and Fitness',\n",
       "       'Computers and Technology', 'Social Networking and Messaging',\n",
       "       'E-Commerce', 'News', 'Education', 'E-Commerce',\n",
       "       'Business/Corporate', 'Streaming Services',\n",
       "       'Social Networking and Messaging', 'Business/Corporate', 'News',\n",
       "       'E-Commerce', 'Streaming Services', 'Food', 'Health and Fitness',\n",
       "       'Education', 'Photography', 'Food', 'Sports', 'Travel',\n",
       "       'Business/Corporate', 'Business/Corporate', 'News', 'E-Commerce',\n",
       "       'Photography', 'E-Commerce', 'Law and Government', 'Travel',\n",
       "       'Travel', 'Streaming Services', 'Health and Fitness', 'Sports',\n",
       "       'Education', 'Travel', 'Health and Fitness', 'Law and Government',\n",
       "       'Education', 'Photography', 'E-Commerce',\n",
       "       'Computers and Technology', 'Computers and Technology',\n",
       "       'Streaming Services', 'Social Networking and Messaging',\n",
       "       'Education', 'News', 'Streaming Services', 'Games',\n",
       "       'Streaming Services', 'Travel', 'Travel', 'Streaming Services',\n",
       "       'Social Networking and Messaging', 'Computers and Technology',\n",
       "       'Health and Fitness', 'Law and Government', 'News', 'Travel',\n",
       "       'Streaming Services', 'Streaming Services', 'Streaming Services',\n",
       "       'Law and Government', 'Social Networking and Messaging',\n",
       "       'Streaming Services', 'Health and Fitness', 'Education',\n",
       "       'Social Networking and Messaging', 'Law and Government',\n",
       "       'Education', 'Social Networking and Messaging',\n",
       "       'Streaming Services', 'Streaming Services', 'Sports',\n",
       "       'Health and Fitness', 'Travel', 'Travel', 'Photography',\n",
       "       'Law and Government', 'News', 'Education', 'News', 'Food',\n",
       "       'Business/Corporate', 'Business/Corporate', 'Food', 'Education',\n",
       "       'Games', 'News', 'News', 'Education', 'Health and Fitness',\n",
       "       'Sports', 'Adult', 'Food', 'Travel', 'Computers and Technology',\n",
       "       'Sports', 'Streaming Services', 'News', 'News', 'Education',\n",
       "       'Streaming Services', 'Streaming Services', 'Education',\n",
       "       'Health and Fitness', 'Education', 'Streaming Services', 'Travel',\n",
       "       'Business/Corporate', 'Photography', 'Photography',\n",
       "       'Social Networking and Messaging', 'E-Commerce',\n",
       "       'Streaming Services', 'Streaming Services', 'News', 'E-Commerce',\n",
       "       'Streaming Services', 'Sports', 'Streaming Services', 'Food',\n",
       "       'Computers and Technology', 'Law and Government', 'Food',\n",
       "       'Health and Fitness', 'Streaming Services', 'Travel',\n",
       "       'Streaming Services', 'Business/Corporate',\n",
       "       'Social Networking and Messaging', 'Business/Corporate', 'Sports',\n",
       "       'Social Networking and Messaging', 'Business/Corporate', 'Travel',\n",
       "       'Law and Government', 'Business/Corporate', 'Streaming Services',\n",
       "       'Education', 'Education', 'Health and Fitness',\n",
       "       'Streaming Services', 'News', 'E-Commerce', 'Law and Government',\n",
       "       'News', 'Health and Fitness', 'Law and Government',\n",
       "       'Law and Government', 'Food', 'Travel', 'Food', 'Games',\n",
       "       'Education', 'Sports', 'Travel', 'Sports', 'Business/Corporate',\n",
       "       'News', 'Streaming Services', 'Social Networking and Messaging',\n",
       "       'Computers and Technology', 'Education', 'Law and Government',\n",
       "       'Social Networking and Messaging',\n",
       "       'Social Networking and Messaging', 'Games', 'Education',\n",
       "       'Streaming Services', 'Photography', 'Computers and Technology',\n",
       "       'Health and Fitness', 'Streaming Services', 'Food', 'Photography',\n",
       "       'News', 'E-Commerce', 'Photography', 'Travel',\n",
       "       'Streaming Services', 'Photography', 'News', 'E-Commerce',\n",
       "       'Computers and Technology', 'Food', 'Photography',\n",
       "       'Computers and Technology', 'Streaming Services',\n",
       "       'Business/Corporate', 'Streaming Services',\n",
       "       'Social Networking and Messaging', 'Business/Corporate',\n",
       "       'Business/Corporate', 'News', 'Business/Corporate', 'Travel',\n",
       "       'Education', 'Computers and Technology', 'Travel',\n",
       "       'Health and Fitness', 'Sports', 'Law and Government',\n",
       "       'Computers and Technology', 'Streaming Services', 'Sports',\n",
       "       'E-Commerce', 'Travel', 'Games', 'Health and Fitness',\n",
       "       'Law and Government', 'Computers and Technology', 'Photography',\n",
       "       'Computers and Technology', 'Games', 'News',\n",
       "       'Computers and Technology', 'Computers and Technology',\n",
       "       'E-Commerce', 'Computers and Technology',\n",
       "       'Computers and Technology', 'News', 'Streaming Services', 'Sports',\n",
       "       'Streaming Services', 'Education', 'Education', 'Games',\n",
       "       'Social Networking and Messaging', 'Games', 'Business/Corporate',\n",
       "       'E-Commerce', 'Business/Corporate', 'Health and Fitness', 'Sports',\n",
       "       'News', 'Streaming Services', 'E-Commerce', 'Photography',\n",
       "       'Streaming Services', 'Education', 'Sports', 'Business/Corporate',\n",
       "       'Education', 'Sports', 'Health and Fitness', 'Food', 'Sports',\n",
       "       'E-Commerce', 'E-Commerce', 'Travel', 'Business/Corporate',\n",
       "       'Travel', 'Streaming Services', 'Streaming Services',\n",
       "       'Health and Fitness', 'Education', 'Health and Fitness',\n",
       "       'Education', 'E-Commerce', 'Sports', 'Streaming Services',\n",
       "       'Education', 'Computers and Technology', 'Streaming Services',\n",
       "       'Games', 'Games', 'Business/Corporate', 'News', 'Games',\n",
       "       'Streaming Services', 'Games', 'Streaming Services',\n",
       "       'Business/Corporate', 'Business/Corporate', 'Sports',\n",
       "       'Law and Government', 'News', 'Education',\n",
       "       'Social Networking and Messaging', 'Food', 'E-Commerce',\n",
       "       'Streaming Services', 'Photography', 'Streaming Services',\n",
       "       'Streaming Services', 'Law and Government', 'E-Commerce',\n",
       "       'Streaming Services', 'Education', 'Games', 'E-Commerce',\n",
       "       'Photography', 'Streaming Services', 'Games', 'Law and Government',\n",
       "       'Travel', 'Education', 'News', 'Education', 'Streaming Services',\n",
       "       'Health and Fitness', 'Social Networking and Messaging', 'Games',\n",
       "       'Law and Government', 'Games', 'Computers and Technology',\n",
       "       'Streaming Services', 'Health and Fitness', 'Food', 'E-Commerce',\n",
       "       'Business/Corporate', 'Sports', 'Social Networking and Messaging',\n",
       "       'Business/Corporate', 'News', 'Photography', 'Education', 'Travel',\n",
       "       'Law and Government', 'Law and Government',\n",
       "       'Computers and Technology', 'Photography',\n",
       "       'Social Networking and Messaging', 'Business/Corporate',\n",
       "       'Health and Fitness', 'Law and Government', 'Education', 'Food',\n",
       "       'Education', 'Health and Fitness', 'Business/Corporate',\n",
       "       'Education', 'Education', 'Travel', 'Education', 'Food',\n",
       "       'Business/Corporate', 'Law and Government',\n",
       "       'Computers and Technology', 'Business/Corporate',\n",
       "       'Streaming Services', 'Education', 'E-Commerce',\n",
       "       'Business/Corporate', 'E-Commerce', 'E-Commerce',\n",
       "       'Social Networking and Messaging', 'Education', 'Games',\n",
       "       'Business/Corporate', 'E-Commerce', 'Health and Fitness',\n",
       "       'Social Networking and Messaging',\n",
       "       'Social Networking and Messaging', 'Law and Government', 'Travel',\n",
       "       'Photography', 'E-Commerce', 'Sports', 'Food', 'Education',\n",
       "       'Travel', 'Social Networking and Messaging',\n",
       "       'Social Networking and Messaging', 'Streaming Services', 'Sports',\n",
       "       'Food', 'Games', 'Education', 'Streaming Services',\n",
       "       'Business/Corporate', 'Games', 'Food', 'Health and Fitness',\n",
       "       'Food', 'Streaming Services', 'Games', 'Streaming Services',\n",
       "       'Games', 'News', 'Streaming Services', 'Business/Corporate',\n",
       "       'Sports', 'Education', 'Health and Fitness', 'Games',\n",
       "       'Photography', 'Photography', 'Sports', 'Travel',\n",
       "       'Law and Government', 'News', 'News', 'Law and Government',\n",
       "       'Travel', 'E-Commerce', 'Education', 'Sports', 'Photography',\n",
       "       'Education', 'Education', 'Sports', 'Computers and Technology',\n",
       "       'Health and Fitness', 'Sports', 'Photography', 'Photography',\n",
       "       'Education', 'Food', 'Food', 'Games',\n",
       "       'Social Networking and Messaging', 'Computers and Technology',\n",
       "       'E-Commerce', 'Education', 'Law and Government',\n",
       "       'Law and Government', 'Streaming Services', 'Law and Government'],\n",
       "      dtype=object)"
      ]
     },
     "execution_count": 67,
     "metadata": {},
     "output_type": "execute_result"
    }
   ],
   "source": [
    "predictions_rfc"
   ]
  },
  {
   "cell_type": "code",
   "execution_count": 68,
   "id": "a576980f",
   "metadata": {
    "scrolled": true
   },
   "outputs": [
    {
     "name": "stdout",
     "output_type": "stream",
     "text": [
      "                                 precision    recall  f1-score   support\n",
      "\n",
      "                          Adult       0.33      1.00      0.50         1\n",
      "             Business/Corporate       0.83      0.76      0.79        33\n",
      "       Computers and Technology       0.76      0.79      0.78        24\n",
      "                     E-Commerce       0.96      0.93      0.95        29\n",
      "                      Education       0.92      0.77      0.84        47\n",
      "                           Food       0.91      0.87      0.89        23\n",
      "                         Forums       0.00      0.00      0.00         0\n",
      "                          Games       0.71      0.96      0.81        23\n",
      "             Health and Fitness       0.76      0.96      0.85        27\n",
      "             Law and Government       0.87      0.93      0.90        28\n",
      "                           News       0.87      0.90      0.88        29\n",
      "                    Photography       0.91      0.87      0.89        23\n",
      "Social Networking and Messaging       0.81      0.84      0.82        25\n",
      "                         Sports       0.89      0.96      0.93        26\n",
      "             Streaming Services       0.97      0.68      0.80        56\n",
      "                         Travel       0.93      0.93      0.93        29\n",
      "\n",
      "                       accuracy                           0.85       423\n",
      "                      macro avg       0.78      0.82      0.78       423\n",
      "                   weighted avg       0.88      0.85      0.86       423\n",
      "\n"
     ]
    },
    {
     "name": "stderr",
     "output_type": "stream",
     "text": [
      "/Users/sebastianandersonguerrero/proyecto_final_Full_Stack/env/lib/python3.11/site-packages/sklearn/metrics/_classification.py:1344: UndefinedMetricWarning: Recall and F-score are ill-defined and being set to 0.0 in labels with no true samples. Use `zero_division` parameter to control this behavior.\n",
      "  _warn_prf(average, modifier, msg_start, len(result))\n",
      "/Users/sebastianandersonguerrero/proyecto_final_Full_Stack/env/lib/python3.11/site-packages/sklearn/metrics/_classification.py:1344: UndefinedMetricWarning: Recall and F-score are ill-defined and being set to 0.0 in labels with no true samples. Use `zero_division` parameter to control this behavior.\n",
      "  _warn_prf(average, modifier, msg_start, len(result))\n",
      "/Users/sebastianandersonguerrero/proyecto_final_Full_Stack/env/lib/python3.11/site-packages/sklearn/metrics/_classification.py:1344: UndefinedMetricWarning: Recall and F-score are ill-defined and being set to 0.0 in labels with no true samples. Use `zero_division` parameter to control this behavior.\n",
      "  _warn_prf(average, modifier, msg_start, len(result))\n"
     ]
    }
   ],
   "source": [
    "print(classification_report(predictions_rfc,y_test))"
   ]
  },
  {
   "cell_type": "code",
   "execution_count": 69,
   "id": "bcaa1983",
   "metadata": {
    "scrolled": false
   },
   "outputs": [
    {
     "data": {
      "text/plain": [
       "<Axes: >"
      ]
     },
     "execution_count": 69,
     "metadata": {},
     "output_type": "execute_result"
    },
    {
     "data": {
      "image/png": "[encoded data removed]",
      "text/plain": [
       "<Figure size 1000x600 with 2 Axes>"
      ]
     },
     "metadata": {},
     "output_type": "display_data"
    }
   ],
   "source": [
    "plt.figure(figsize=(10,6))\n",
    "sns.heatmap(confusion_matrix(predictions_rfc,y_test),cmap='PiYG',annot=True)"
   ]
  },
  {
   "cell_type": "code",
   "execution_count": 70,
   "id": "450d69b3",
   "metadata": {},
   "outputs": [
    {
     "name": "stdout",
     "output_type": "stream",
     "text": [
      "0.8486997635933806\n"
     ]
    }
   ],
   "source": [
    "print(accuracy_score(predictions_rfc,y_test))"
   ]
  },
  {
   "cell_type": "code",
   "execution_count": 71,
   "id": "8a37359e",
   "metadata": {},
   "outputs": [],
   "source": [
    "pickle.dump(model_rfc, open('models/rfc/rfc.sav', 'wb'))\n",
    "pickle.dump(model_clf, open('models/clf/model_clf_1.sav', 'wb'))\n",
    "pickle.dump(model_svc, open('models/svc/svc_clf_1.sav', 'wb'))"
   ]
  },
  {
   "cell_type": "markdown",
   "id": "5e352aa5",
   "metadata": {},
   "source": [
    "# Web Scraping"
   ]
  },
  {
   "cell_type": "code",
   "execution_count": 75,
   "id": "808628cc",
   "metadata": {},
   "outputs": [
    {
     "name": "stdout",
     "output_type": "stream",
     "text": [
      "Requirement already satisfied: beautifulsoup4 in /Users/sebastianandersonguerrero/proyecto_final_Full_Stack/env/lib/python3.11/site-packages (4.12.0)\n",
      "Requirement already satisfied: soupsieve>1.2 in /Users/sebastianandersonguerrero/proyecto_final_Full_Stack/env/lib/python3.11/site-packages (from beautifulsoup4) (2.4)\n",
      "Requirement already satisfied: lxml in /Users/sebastianandersonguerrero/proyecto_final_Full_Stack/env/lib/python3.11/site-packages (4.9.2)\n"
     ]
    }
   ],
   "source": [
    "!pip3 install beautifulsoup4\n",
    "!pip3 install lxml"
   ]
  },
  {
   "cell_type": "code",
   "execution_count": 76,
   "id": "1a49f95d",
   "metadata": {},
   "outputs": [],
   "source": [
    "import requests\n",
    "import pandas as pd\n",
    "import string\n",
    "import re\n",
    "from bs4 import BeautifulSoup\n",
    "import lxml"
   ]
  },
  {
   "cell_type": "code",
   "execution_count": 77,
   "id": "e92659c0",
   "metadata": {},
   "outputs": [],
   "source": [
    "headers = {\n",
    "    'Access-Control-Allow-Origin': '*',\n",
    "    'Access-Control-Allow-Methods': 'GET',\n",
    "    'Access-Control-Allow-Headers': 'Content-Type',\n",
    "    'Access-Control-Max-Age': '3600',\n",
    "    'User-Agent': 'Mozilla/5.0 (X11; Ubuntu; Linux x86_64; rv:52.0) Gecko/20100101 Firefox/52.0'\n",
    "    }\n",
    "def get_title(html):\n",
    "    \"\"\"Scrape page title.\"\"\"\n",
    "    if html.find(\"title\"):\n",
    "        title = html.find(\"title\").string\n",
    "    elif html.find(\"meta\", property=\"og:title\"):\n",
    "        title = html.find(\"meta\", property=\"og:title\").get('content').string\n",
    "    elif html.find(\"h1\"):\n",
    "        title = html.find(\"h1\").string\n",
    "    return title\n",
    "\n",
    "\n",
    "def get_description(html):\n",
    "    \"\"\"Scrape page description.\"\"\"\n",
    "    if html.find(\"meta\", property=\"description\"):\n",
    "        description = html.find(\"meta\", property=\"description\").get('content')\n",
    "    elif html.find(\"meta\", property=\"og:description\"):\n",
    "        description = html.find(\"meta\", property=\"og:description\").get('content')\n",
    "    elif html.find(\"p\"):\n",
    "        description = html.find(\"p\").contents\n",
    "    return description\n",
    "\n",
    "\n",
    "def get_image(html):\n",
    "    \"\"\"Scrape share image.\"\"\"\n",
    "    if html.find(\"meta\", property=\"image\"):\n",
    "        image = html.find(\"meta\", property=\"image\").get('content')\n",
    "    elif html.find(\"meta\", property=\"og:image\"):\n",
    "        image = html.find(\"meta\", property=\"og:image\").get('content')\n",
    "    elif html.find(\"img\", src=True):\n",
    "        image = html.find(\"img\").get('src')\n",
    "    return image"
   ]
  },
  {
   "cell_type": "code",
   "execution_count": 78,
   "id": "5fa916f0",
   "metadata": {},
   "outputs": [],
   "source": [
    "url = 'https://www.netflix.com'\n",
    "req = requests.get(url, headers)\n",
    "html = BeautifulSoup(req.content, 'lxml')"
   ]
  },
  {
   "cell_type": "code",
   "execution_count": 79,
   "id": "7f5f8f00",
   "metadata": {},
   "outputs": [
    {
     "name": "stdout",
     "output_type": "stream",
     "text": [
      "Netflix Colombia - Watch TV Shows Online, Watch Movies Online\n",
      "Watch Netflix movies & TV shows online or stream right to your smart TV, game console, PC, Mac, mobile, tablet and more.\n",
      "https://assets.nflxext.com/ffe/siteui/vlv3/8f12b4f0-a894-4d5b-9c36-5ba391c63fbe/2f1c87ca-5074-49eb-9dff-135920f5d378/CO-en-20230320-popsignuptwoweeks-perspective_alpha_website_small.jpg\n"
     ]
    }
   ],
   "source": [
    "title = get_title(html)\n",
    "print(title)\n",
    "description = get_description(html)\n",
    "print(description)\n",
    "image = get_image(html)\n",
    "print(image)"
   ]
  },
  {
   "cell_type": "code",
   "execution_count": 93,
   "id": "34756eb3",
   "metadata": {},
   "outputs": [],
   "source": [
    "titles = []\n",
    "descriptions = []\n",
    "images = []\n",
    "titles.append(title.text.replace('\\n', ''))\n",
    "descriptions.append(description.replace('\\n', ''))\n",
    "images.append(image.replace('\\n', ''))"
   ]
  },
  {
   "cell_type": "code",
   "execution_count": 100,
   "id": "7ee9250f",
   "metadata": {},
   "outputs": [
    {
     "data": {
      "text/html": [
       "<div>\n",
       "<style scoped>\n",
       "    .dataframe tbody tr th:only-of-type {\n",
       "        vertical-align: middle;\n",
       "    }\n",
       "\n",
       "    .dataframe tbody tr th {\n",
       "        vertical-align: top;\n",
       "    }\n",
       "\n",
       "    .dataframe thead th {\n",
       "        text-align: right;\n",
       "    }\n",
       "</style>\n",
       "<table border=\"1\" class=\"dataframe\">\n",
       "  <thead>\n",
       "    <tr style=\"text-align: right;\">\n",
       "      <th></th>\n",
       "      <th>title</th>\n",
       "      <th>cleaned_website_text</th>\n",
       "      <th>image</th>\n",
       "    </tr>\n",
       "  </thead>\n",
       "  <tbody>\n",
       "    <tr>\n",
       "      <th>0</th>\n",
       "      <td>Netflix Colombia - Watch TV Shows Online, Watc...</td>\n",
       "      <td>Watch Netflix movies &amp; TV shows online or stre...</td>\n",
       "      <td>https://assets.nflxext.com/ffe/siteui/vlv3/8f1...</td>\n",
       "    </tr>\n",
       "  </tbody>\n",
       "</table>\n",
       "</div>"
      ],
      "text/plain": [
       "                                               title  \\\n",
       "0  Netflix Colombia - Watch TV Shows Online, Watc...   \n",
       "\n",
       "                                cleaned_website_text  \\\n",
       "0  Watch Netflix movies & TV shows online or stre...   \n",
       "\n",
       "                                               image  \n",
       "0  https://assets.nflxext.com/ffe/siteui/vlv3/8f1...  "
      ]
     },
     "execution_count": 100,
     "metadata": {},
     "output_type": "execute_result"
    }
   ],
   "source": [
    "df_url = pd.DataFrame(columns = ['title','cleaned_website_text','image'])\n",
    "df_url['title'] = titles\n",
    "df_url['cleaned_website_text'] = descriptions\n",
    "df_url['image'] = images\n",
    "df_url"
   ]
  },
  {
   "cell_type": "code",
   "execution_count": 101,
   "id": "60737758",
   "metadata": {},
   "outputs": [
    {
     "data": {
      "text/plain": [
       "0    Watch Netflix movies & TV shows online or stre...\n",
       "Name: cleaned_website_text, dtype: object"
      ]
     },
     "execution_count": 101,
     "metadata": {},
     "output_type": "execute_result"
    }
   ],
   "source": [
    "X_predict = df_url['cleaned_website_text']\n",
    "X_predict"
   ]
  },
  {
   "cell_type": "code",
   "execution_count": 103,
   "id": "2119c300",
   "metadata": {},
   "outputs": [
    {
     "data": {
      "text/plain": [
       "0    [Watch, Netflix, movies, TV, shows, online, st...\n",
       "Name: cleaned_website_text, dtype: object"
      ]
     },
     "execution_count": 103,
     "metadata": {},
     "output_type": "execute_result"
    }
   ],
   "source": [
    "X_predict.apply(text_process).head() "
   ]
  },
  {
   "cell_type": "code",
   "execution_count": 105,
   "id": "0568237a",
   "metadata": {},
   "outputs": [
    {
     "name": "stdout",
     "output_type": "stream",
     "text": [
      "  (0, 18)\t1\n",
      "  (0, 7)\t1\n",
      "  (0, 6)\t1\n",
      "  (0, 17)\t2\n",
      "  (0, 12)\t1\n",
      "  (0, 8)\t1\n",
      "  (0, 9)\t1\n",
      "  (0, 14)\t1\n",
      "  (0, 11)\t1\n",
      "  (0, 16)\t1\n",
      "  (0, 19)\t1\n",
      "  (0, 13)\t1\n",
      "  (0, 2)\t1\n",
      "  (0, 1)\t1\n",
      "  (0, 10)\t1\n",
      "  (0, 3)\t1\n",
      "  (0, 4)\t1\n",
      "  (0, 15)\t1\n",
      "  (0, 0)\t1\n",
      "  (0, 5)\t1\n"
     ]
    }
   ],
   "source": [
    "from sklearn.feature_extraction.text import CountVectorizer \n",
    "X_predict=CountVectorizer().fit_transform(X_predict)\n",
    "print(X_predict)"
   ]
  },
  {
   "cell_type": "code",
   "execution_count": 106,
   "id": "3ad75e7a",
   "metadata": {},
   "outputs": [
    {
     "name": "stdout",
     "output_type": "stream",
     "text": [
      "  (0, 19)\t0.20851441405707477\n",
      "  (0, 18)\t0.20851441405707477\n",
      "  (0, 17)\t0.41702882811414954\n",
      "  (0, 16)\t0.20851441405707477\n",
      "  (0, 15)\t0.20851441405707477\n",
      "  (0, 14)\t0.20851441405707477\n",
      "  (0, 13)\t0.20851441405707477\n",
      "  (0, 12)\t0.20851441405707477\n",
      "  (0, 11)\t0.20851441405707477\n",
      "  (0, 10)\t0.20851441405707477\n",
      "  (0, 9)\t0.20851441405707477\n",
      "  (0, 8)\t0.20851441405707477\n",
      "  (0, 7)\t0.20851441405707477\n",
      "  (0, 6)\t0.20851441405707477\n",
      "  (0, 5)\t0.20851441405707477\n",
      "  (0, 4)\t0.20851441405707477\n",
      "  (0, 3)\t0.20851441405707477\n",
      "  (0, 2)\t0.20851441405707477\n",
      "  (0, 1)\t0.20851441405707477\n",
      "  (0, 0)\t0.20851441405707477\n"
     ]
    }
   ],
   "source": [
    "from sklearn.feature_extraction.text import TfidfTransformer    \n",
    "X_predict=TfidfTransformer().fit_transform(X_predict)     \n",
    "print(X_predict)"
   ]
  },
  {
   "cell_type": "code",
   "execution_count": 107,
   "id": "655a3a78",
   "metadata": {},
   "outputs": [
    {
     "ename": "ValueError",
     "evalue": "X has 20 features, but RandomForestClassifier is expecting 60031 features as input.",
     "output_type": "error",
     "traceback": [
      "\u001b[0;31m---------------------------------------------------------------------------\u001b[0m",
      "\u001b[0;31mValueError\u001b[0m                                Traceback (most recent call last)",
      "Cell \u001b[0;32mIn[107], line 1\u001b[0m\n\u001b[0;32m----> 1\u001b[0m predictions_url\u001b[38;5;241m=\u001b[39m\u001b[43mmodel_rfc\u001b[49m\u001b[38;5;241;43m.\u001b[39;49m\u001b[43mpredict\u001b[49m\u001b[43m(\u001b[49m\u001b[43mX_predict\u001b[49m\u001b[43m)\u001b[49m\n",
      "File \u001b[0;32m~/proyecto_final_Full_Stack/env/lib/python3.11/site-packages/sklearn/ensemble/_forest.py:820\u001b[0m, in \u001b[0;36mForestClassifier.predict\u001b[0;34m(self, X)\u001b[0m\n\u001b[1;32m    799\u001b[0m \u001b[38;5;28;01mdef\u001b[39;00m \u001b[38;5;21mpredict\u001b[39m(\u001b[38;5;28mself\u001b[39m, X):\n\u001b[1;32m    800\u001b[0m \u001b[38;5;250m    \u001b[39m\u001b[38;5;124;03m\"\"\"\u001b[39;00m\n\u001b[1;32m    801\u001b[0m \u001b[38;5;124;03m    Predict class for X.\u001b[39;00m\n\u001b[1;32m    802\u001b[0m \n\u001b[0;32m   (...)\u001b[0m\n\u001b[1;32m    818\u001b[0m \u001b[38;5;124;03m        The predicted classes.\u001b[39;00m\n\u001b[1;32m    819\u001b[0m \u001b[38;5;124;03m    \"\"\"\u001b[39;00m\n\u001b[0;32m--> 820\u001b[0m     proba \u001b[38;5;241m=\u001b[39m \u001b[38;5;28;43mself\u001b[39;49m\u001b[38;5;241;43m.\u001b[39;49m\u001b[43mpredict_proba\u001b[49m\u001b[43m(\u001b[49m\u001b[43mX\u001b[49m\u001b[43m)\u001b[49m\n\u001b[1;32m    822\u001b[0m     \u001b[38;5;28;01mif\u001b[39;00m \u001b[38;5;28mself\u001b[39m\u001b[38;5;241m.\u001b[39mn_outputs_ \u001b[38;5;241m==\u001b[39m \u001b[38;5;241m1\u001b[39m:\n\u001b[1;32m    823\u001b[0m         \u001b[38;5;28;01mreturn\u001b[39;00m \u001b[38;5;28mself\u001b[39m\u001b[38;5;241m.\u001b[39mclasses_\u001b[38;5;241m.\u001b[39mtake(np\u001b[38;5;241m.\u001b[39margmax(proba, axis\u001b[38;5;241m=\u001b[39m\u001b[38;5;241m1\u001b[39m), axis\u001b[38;5;241m=\u001b[39m\u001b[38;5;241m0\u001b[39m)\n",
      "File \u001b[0;32m~/proyecto_final_Full_Stack/env/lib/python3.11/site-packages/sklearn/ensemble/_forest.py:862\u001b[0m, in \u001b[0;36mForestClassifier.predict_proba\u001b[0;34m(self, X)\u001b[0m\n\u001b[1;32m    860\u001b[0m check_is_fitted(\u001b[38;5;28mself\u001b[39m)\n\u001b[1;32m    861\u001b[0m \u001b[38;5;66;03m# Check data\u001b[39;00m\n\u001b[0;32m--> 862\u001b[0m X \u001b[38;5;241m=\u001b[39m \u001b[38;5;28;43mself\u001b[39;49m\u001b[38;5;241;43m.\u001b[39;49m\u001b[43m_validate_X_predict\u001b[49m\u001b[43m(\u001b[49m\u001b[43mX\u001b[49m\u001b[43m)\u001b[49m\n\u001b[1;32m    864\u001b[0m \u001b[38;5;66;03m# Assign chunk of trees to jobs\u001b[39;00m\n\u001b[1;32m    865\u001b[0m n_jobs, _, _ \u001b[38;5;241m=\u001b[39m _partition_estimators(\u001b[38;5;28mself\u001b[39m\u001b[38;5;241m.\u001b[39mn_estimators, \u001b[38;5;28mself\u001b[39m\u001b[38;5;241m.\u001b[39mn_jobs)\n",
      "File \u001b[0;32m~/proyecto_final_Full_Stack/env/lib/python3.11/site-packages/sklearn/ensemble/_forest.py:602\u001b[0m, in \u001b[0;36mBaseForest._validate_X_predict\u001b[0;34m(self, X)\u001b[0m\n\u001b[1;32m    599\u001b[0m \u001b[38;5;250m\u001b[39m\u001b[38;5;124;03m\"\"\"\u001b[39;00m\n\u001b[1;32m    600\u001b[0m \u001b[38;5;124;03mValidate X whenever one tries to predict, apply, predict_proba.\"\"\"\u001b[39;00m\n\u001b[1;32m    601\u001b[0m check_is_fitted(\u001b[38;5;28mself\u001b[39m)\n\u001b[0;32m--> 602\u001b[0m X \u001b[38;5;241m=\u001b[39m \u001b[38;5;28;43mself\u001b[39;49m\u001b[38;5;241;43m.\u001b[39;49m\u001b[43m_validate_data\u001b[49m\u001b[43m(\u001b[49m\u001b[43mX\u001b[49m\u001b[43m,\u001b[49m\u001b[43m \u001b[49m\u001b[43mdtype\u001b[49m\u001b[38;5;241;43m=\u001b[39;49m\u001b[43mDTYPE\u001b[49m\u001b[43m,\u001b[49m\u001b[43m \u001b[49m\u001b[43maccept_sparse\u001b[49m\u001b[38;5;241;43m=\u001b[39;49m\u001b[38;5;124;43m\"\u001b[39;49m\u001b[38;5;124;43mcsr\u001b[39;49m\u001b[38;5;124;43m\"\u001b[39;49m\u001b[43m,\u001b[49m\u001b[43m \u001b[49m\u001b[43mreset\u001b[49m\u001b[38;5;241;43m=\u001b[39;49m\u001b[38;5;28;43;01mFalse\u001b[39;49;00m\u001b[43m)\u001b[49m\n\u001b[1;32m    603\u001b[0m \u001b[38;5;28;01mif\u001b[39;00m issparse(X) \u001b[38;5;129;01mand\u001b[39;00m (X\u001b[38;5;241m.\u001b[39mindices\u001b[38;5;241m.\u001b[39mdtype \u001b[38;5;241m!=\u001b[39m np\u001b[38;5;241m.\u001b[39mintc \u001b[38;5;129;01mor\u001b[39;00m X\u001b[38;5;241m.\u001b[39mindptr\u001b[38;5;241m.\u001b[39mdtype \u001b[38;5;241m!=\u001b[39m np\u001b[38;5;241m.\u001b[39mintc):\n\u001b[1;32m    604\u001b[0m     \u001b[38;5;28;01mraise\u001b[39;00m \u001b[38;5;167;01mValueError\u001b[39;00m(\u001b[38;5;124m\"\u001b[39m\u001b[38;5;124mNo support for np.int64 index based sparse matrices\u001b[39m\u001b[38;5;124m\"\u001b[39m)\n",
      "File \u001b[0;32m~/proyecto_final_Full_Stack/env/lib/python3.11/site-packages/sklearn/base.py:588\u001b[0m, in \u001b[0;36mBaseEstimator._validate_data\u001b[0;34m(self, X, y, reset, validate_separately, **check_params)\u001b[0m\n\u001b[1;32m    585\u001b[0m     out \u001b[38;5;241m=\u001b[39m X, y\n\u001b[1;32m    587\u001b[0m \u001b[38;5;28;01mif\u001b[39;00m \u001b[38;5;129;01mnot\u001b[39;00m no_val_X \u001b[38;5;129;01mand\u001b[39;00m check_params\u001b[38;5;241m.\u001b[39mget(\u001b[38;5;124m\"\u001b[39m\u001b[38;5;124mensure_2d\u001b[39m\u001b[38;5;124m\"\u001b[39m, \u001b[38;5;28;01mTrue\u001b[39;00m):\n\u001b[0;32m--> 588\u001b[0m     \u001b[38;5;28;43mself\u001b[39;49m\u001b[38;5;241;43m.\u001b[39;49m\u001b[43m_check_n_features\u001b[49m\u001b[43m(\u001b[49m\u001b[43mX\u001b[49m\u001b[43m,\u001b[49m\u001b[43m \u001b[49m\u001b[43mreset\u001b[49m\u001b[38;5;241;43m=\u001b[39;49m\u001b[43mreset\u001b[49m\u001b[43m)\u001b[49m\n\u001b[1;32m    590\u001b[0m \u001b[38;5;28;01mreturn\u001b[39;00m out\n",
      "File \u001b[0;32m~/proyecto_final_Full_Stack/env/lib/python3.11/site-packages/sklearn/base.py:389\u001b[0m, in \u001b[0;36mBaseEstimator._check_n_features\u001b[0;34m(self, X, reset)\u001b[0m\n\u001b[1;32m    386\u001b[0m     \u001b[38;5;28;01mreturn\u001b[39;00m\n\u001b[1;32m    388\u001b[0m \u001b[38;5;28;01mif\u001b[39;00m n_features \u001b[38;5;241m!=\u001b[39m \u001b[38;5;28mself\u001b[39m\u001b[38;5;241m.\u001b[39mn_features_in_:\n\u001b[0;32m--> 389\u001b[0m     \u001b[38;5;28;01mraise\u001b[39;00m \u001b[38;5;167;01mValueError\u001b[39;00m(\n\u001b[1;32m    390\u001b[0m         \u001b[38;5;124mf\u001b[39m\u001b[38;5;124m\"\u001b[39m\u001b[38;5;124mX has \u001b[39m\u001b[38;5;132;01m{\u001b[39;00mn_features\u001b[38;5;132;01m}\u001b[39;00m\u001b[38;5;124m features, but \u001b[39m\u001b[38;5;132;01m{\u001b[39;00m\u001b[38;5;28mself\u001b[39m\u001b[38;5;241m.\u001b[39m\u001b[38;5;18m__class__\u001b[39m\u001b[38;5;241m.\u001b[39m\u001b[38;5;18m__name__\u001b[39m\u001b[38;5;132;01m}\u001b[39;00m\u001b[38;5;124m \u001b[39m\u001b[38;5;124m\"\u001b[39m\n\u001b[1;32m    391\u001b[0m         \u001b[38;5;124mf\u001b[39m\u001b[38;5;124m\"\u001b[39m\u001b[38;5;124mis expecting \u001b[39m\u001b[38;5;132;01m{\u001b[39;00m\u001b[38;5;28mself\u001b[39m\u001b[38;5;241m.\u001b[39mn_features_in_\u001b[38;5;132;01m}\u001b[39;00m\u001b[38;5;124m features as input.\u001b[39m\u001b[38;5;124m\"\u001b[39m\n\u001b[1;32m    392\u001b[0m     )\n",
      "\u001b[0;31mValueError\u001b[0m: X has 20 features, but RandomForestClassifier is expecting 60031 features as input."
     ]
    }
   ],
   "source": [
    "predictions_url=model_rfc.predict(X_predict)"
   ]
  }
 ],
 "metadata": {
  "kernelspec": {
   "display_name": "Python 3 (ipykernel)",
   "language": "python",
   "name": "python3"
  },
  "language_info": {
   "codemirror_mode": {
    "name": "ipython",
    "version": 3
   },
   "file_extension": ".py",
   "mimetype": "text/x-python",
   "name": "python",
   "nbconvert_exporter": "python",
   "pygments_lexer": "ipython3",
   "version": "3.11.2"
  }
 },
 "nbformat": 4,
 "nbformat_minor": 5
}
